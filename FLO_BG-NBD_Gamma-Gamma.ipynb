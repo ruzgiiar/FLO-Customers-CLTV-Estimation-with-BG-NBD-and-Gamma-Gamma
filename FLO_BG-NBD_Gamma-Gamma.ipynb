{
 "cells": [
  {
   "cell_type": "markdown",
   "id": "3b6fa1ed-be8e-4755-b83c-4af4b298b65b",
   "metadata": {},
   "source": [
    "# FLO Customers CLTV Estimation with BG-NBD and Gamma-Gamma\n",
    "## (FLO Müşterileri BG-NBD ve Gamma-Gamma ile CLTV Tahmini)"
   ]
  },
  {
   "cell_type": "markdown",
   "id": "af10d7c3-8435-4809-9c7e-5ad77972052e",
   "metadata": {},
   "source": [
    "## Business Problem (İş Problemi)"
   ]
  },
  {
   "cell_type": "markdown",
   "id": "8355a176-122c-46f7-813a-01a702624be1",
   "metadata": {},
   "source": [
    "- **FLO wants to determine a roadmap for sales and marketing activities. In order for the company to make medium-long term plans, it is necessary to estimate the potential value that existing customers will provide to the company in the future.**\n",
    "\n",
    "    - *(FLO satış ve pazarlama faaliyetleri için roadmap belirlemek istemektedir. Şirketin orta uzun vadeli plan yapabilmesi için var olan müşterilerin gelecekte şirkete sağlayacakları potansiyel değerin tahmin edilmesi gerekmektedir.)*"
   ]
  },
  {
   "cell_type": "markdown",
   "id": "f778bd2e-6187-4fd5-b8fb-c53a92cd1270",
   "metadata": {},
   "source": [
    "## Data Set Story (Veri Seti Hikayesi)"
   ]
  },
  {
   "cell_type": "markdown",
   "id": "4c604293-1e18-40d7-89d0-3000b0ed77bd",
   "metadata": {},
   "source": [
    "- **The data set shows the last purchases from Flo in 2020 - 2021 by OmniChannel (both online and offline shoppers). It consists of information obtained from the past shopping behavior of customers.**\n",
    "\n",
    "    - *(Veri seti Flo’dan son alışverişlerini 2020 - 2021 yıllarında OmniChannel (hem online hem offline alışveriş yapan) olarak yapan müşterilerin geçmiş alışveriş davranışlarından elde edilen bilgilerden oluşmaktadır.)*\n",
    "---\n",
    "- **master_id:** *Unique customer number* (Eşsiz Müşteri Numarası)\n",
    "\n",
    "- **order_channel:** *Which channel of the shopping platform is used (Android, iOS, Desktop, Mobile)* (Alışveriş yapılan platforma ait hangi kanalın kullanıldığı (Android, ios, Desktop, Mobile))\n",
    "\n",
    "- **last_order_channel:** *Channel where last purchase was made* (En son alışverişin yapıldığı kanal)\n",
    "\n",
    "- **first_order_date:** *Date of the customer's first purchase* (Müşterinin yaptığı ilk alışveriş tarihi)\n",
    "\n",
    "- **last_order_date:** *Customer's last purchase date* (Müşterinin yaptığı son alışveriş tarihi)\n",
    "\n",
    "- **last_order_date_online:** *The customer's last shopping date on the online platform* (Müşterinin online platformda yaptığı son alışveriş tarihi)\n",
    "\n",
    "- **last_order_date_offline:** *The last shopping date of the customer on the offline platform* (Müşterinin offline platformda yaptığı son alışveriş tarihi)\n",
    "\n",
    "- **order_num_total_ever_online:** *Total number of purchases made by the customer on the online platform* (Müşterinin online platformda yaptığı toplam alışveriş sayısı)\n",
    "\n",
    "- **order_num_total_ever_offline:** *Total number of purchases made by the customer offline* (Müşterinin offline'da yaptığı toplam alışveriş sayısı)\n",
    "\n",
    "- **customer_value_total_ever_offline:** *Total fee paid by the customer for offline purchases* (Müşterinin offline alışverişlerinde ödediği toplam ücret)\n",
    "\n",
    "- **customer_value_total_ever_online:** *Total fee paid by the customer for online shopping* (Müşterinin online alışverişlerinde ödediği toplam ücret)\n",
    "\n",
    "- **interested_in_categories_12:** *List of categories the customer has shopped in the last 12 months* (Müşterinin son 12 ayda alışveriş yaptığı kategorilerin listesi)"
   ]
  },
  {
   "cell_type": "markdown",
   "id": "ec556e89-d919-41b0-b5e8-83e92f21ce4e",
   "metadata": {},
   "source": [
    "## Project Tasks (Proje Görevleri)"
   ]
  },
  {
   "cell_type": "markdown",
   "id": "d6798d34-b4c9-49a4-9034-f1bfd4de9e95",
   "metadata": {},
   "source": [
    "### 1. Task (1. Görev) : Preparing the Data (Veriyi Hazırlama)"
   ]
  },
  {
   "cell_type": "markdown",
   "id": "a0b0339a-54fb-48b5-b20a-8ca4c93f19a8",
   "metadata": {},
   "source": [
    "- **Step 1** *Read the flo_data_20K.csv data.*\n",
    "\n",
    "  - (**Adım 1:** *flo_data_20K.csv verisini okuyunuz.*)\n",
    " \n",
    "---\n",
    "\n",
    "- **Step 2** *Define the outlier_thresholds and replace_with_thresholds functions required to suppress outliers. Note: When calculating cltv, frequency values must be integer. Therefore, round the lower and upper limits with round().*\n",
    "\n",
    "  - (**Adım 2:** *Aykırı değerleri baskılamak için gerekli olan outlier_thresholds ve replace_with_thresholds fonksiyonlarını tanımlayınız.  Not: cltv hesaplanırken frequency değerleri integer olması gerekmektedir.Bu nedenle alt ve üst limitlerini round() ile yuvarlayınız.*)\n",
    " \n",
    "---\n",
    "\n",
    "- **Step 3** *Suppresses the variables \"order_num_total_ever_online\", \"order_num_total_ever_offline\", \"customer_value_total_ever_offline\", \"customer_value_total_ever_online\" if there are outliers.*\n",
    "\n",
    "  - (**Adım 3:** *\"order_num_total_ever_online\", \"order_num_total_ever_offline\", \"customer_value_total_ever_offline\", \"customer_value_total_ever_online\" değişkenlerinin aykırı değerleri varsa baskılayanız.*)\n",
    " \n",
    "---\n",
    "\n",
    "- **Step 4** *Omnichannel refers to customers shopping both online and offline platforms. Total for each customer Create new variables for the number of purchases and spending*\n",
    "\n",
    "  - (**Adım 4:** *Omnichannel müşterilerin hem online'dan hem de offline platformlardan alışveriş yaptığını ifade etmektedir. Her bir müşterinin toplam alışveriş sayısı ve harcaması için yeni değişkenler oluşturunuz*)\n",
    " \n",
    "---\n",
    "\n",
    "- **Step 5** *Examine the variable types. Change the type of variables expressing date to date.*\n",
    "\n",
    "  - (**Adım 5:** *Değişken tiplerini inceleyiniz. Tarih ifade eden değişkenlerin tipini date'e çeviriniz*)\n",
    " \n",
    "---"
   ]
  },
  {
   "cell_type": "markdown",
   "id": "0cc43a10-3d1b-4067-8a63-77292dd5b22a",
   "metadata": {},
   "source": [
    "### 2. Task (2. Görev): Creating the CLTV Data Structure (CLTV Veri Yapısının Oluşturulması)"
   ]
  },
  {
   "cell_type": "markdown",
   "id": "4984fe07-0cb6-47d7-85d7-fca5ff3e6f55",
   "metadata": {},
   "source": [
    "- **Step 1:** *Take 2 days after the date of the last purchase in the data set as the analysis date.*\n",
    "\n",
    "  - (**Adım 1:** *Veri setindeki en son alışverişin yapıldığı tarihten 2 gün sonrasını analiz tarihi olarak alınız.*)\n",
    " \n",
    "---\n",
    "\n",
    "- **Step 2:** *Create a new cltv dataframe containing the values \"customer_id\", \"recency_cltv_weekly\", \"T_weekly\", \"frequency\" and \"monetary_cltv_avg\". \"Monetary\" value will be expressed as the average value per purchase, and \"recency\" and \"tenure\" values will be expressed in weekly terms.*\n",
    "\n",
    "  - (**Adım 2:** *\"customer_id\", \"recency_cltv_weekly\", \"T_weekly\", \"frequency\" ve \"monetary_cltv_avg\" değerlerinin yer aldığı yeni bir cltv dataframe'i oluşturunuz. \"Monetary\" değeri satın alma başına ortalama değer olarak, \"recency\" ve \"tenure\" değerleri ise haftalık cinsten ifade edilecek.*)\n",
    " \n",
    "---"
   ]
  },
  {
   "cell_type": "markdown",
   "id": "c687fcde-8a43-4747-b467-b9f37af39527",
   "metadata": {},
   "source": [
    "### 3. Task (3. Görev): Establishing BG/NBD, Gamma-Gamma Models and Calculating CLTV (BG/NBD, Gamma-Gamma Modellerinin Kurulması ve CLTV’nin Hesaplanması)"
   ]
  },
  {
   "cell_type": "markdown",
   "id": "81ef579c-0341-4ee3-a688-d7f46741a624",
   "metadata": {},
   "source": [
    "- **Step 1:** *Fit BG/NBD model*\n",
    "\n",
    "  1. *Estimate the expected purchases from customers within 3 months and add it to the cltv dataframe as exp_sales_3_month.*\n",
    " \n",
    "  2. *Estimate the expected purchases from customers within 6 months and add it to the cltv dataframe as exp_sales_6_month.*\n",
    "\n",
    "    - (**Adım 1:** *BG/NBD modelini fit ediniz*\n",
    "      \n",
    "      1. *3 ay içerisinde müşterilerden beklenen satın almaları tahmin ediniz ve exp_sales_3_month olarak cltv dataframe'ine ekleyiniz.*\n",
    "  \n",
    "      2. *6 ay içerisinde müşterilerden beklenen satın almaları tahmin ediniz ve exp_sales_6_month olarak cltv dataframe'ine ekleyiniz.*)\n",
    "     \n",
    "---\n",
    "\n",
    "- **Step 2:** *Fit the Gamma-Gamma model. Estimate the average value that customers will leave and use cltv as exp_average_value\n",
    "Add it to the dataframe.*\n",
    "\n",
    "  - (*Gamma-Gamma modelini fit ediniz. Müşterilerin ortalama bırakacakları değeri tahminleyip exp_average_value olarak cltv dataframe'ine ekleyiniz.*)\n",
    " \n",
    "---\n",
    "\n",
    "- **Step 3:** *Calculate 6-month CLTV and add it to the dataframe with the name cltv.*\n",
    "\n",
    "  1. *Observe the 20 people with the highest Cltv value.*\n",
    "\n",
    "     - (**Adım 3:** *6 aylık CLTV hesaplayınız ve cltv ismiyle dataframe'e ekleyiniz.*\n",
    "     \n",
    "       1. *Cltv değeri en yüksek 20 kişiyi gözlemleyiniz.*)\n",
    "  \n",
    "---"
   ]
  },
  {
   "cell_type": "markdown",
   "id": "ba2260eb-fe76-4a5e-b7a9-14116b2bcbf1",
   "metadata": {},
   "source": [
    "### 4. Task (4. Görev) : Creating Segments Based on CLTV Value (CLTV Değerine Göre Segmentlerin Oluşturulması)"
   ]
  },
  {
   "cell_type": "markdown",
   "id": "f6be7b2e-574b-4fed-9434-cba1f1f1864a",
   "metadata": {},
   "source": [
    "- **Step 1:** *Divide all your customers into 4 groups (segments) according to 6-month CLTV and add the group names to the data set.*\n",
    "\n",
    "  - (**Adım 1:** *6 aylık CLTV'ye göre tüm müşterilerinizi 4 gruba (segmente) ayırınız ve grup isimlerini veri setine ekleyiniz.*)\n",
    " \n",
    "---\n",
    "\n",
    "- **Step 2:** *Make brief 6-month action suggestions to the management for 2 groups you choose among 4 groups.*\n",
    "\n",
    "  - (**Adım 2:** *4 grup içerisinden seçeceğiniz 2 grup için yönetime kısa kısa 6 aylık aksiyon önerilerinde bulununuz.*)\n",
    " \n",
    "---"
   ]
  },
  {
   "cell_type": "markdown",
   "id": "8034d063-1914-40ae-95b3-34928eeb4803",
   "metadata": {},
   "source": [
    "## Solution (Çözüm)"
   ]
  },
  {
   "cell_type": "markdown",
   "id": "7d986e78-e737-48fe-94fc-303911dcecc0",
   "metadata": {},
   "source": [
    "#### Required Libraries (Gerekli Kütüphaneler)"
   ]
  },
  {
   "cell_type": "code",
   "execution_count": 102,
   "id": "db15211e-a2aa-4129-867a-26c8feaff7de",
   "metadata": {},
   "outputs": [],
   "source": [
    "import pandas as pd\n",
    "import numpy as np\n",
    "import matplotlib.pyplot as plt\n",
    "import seaborn as sns\n",
    "import datetime as dt\n",
    "import warnings\n",
    "from lifetimes import BetaGeoFitter\n",
    "from lifetimes import GammaGammaFitter\n",
    "from lifetimes.plotting import plot_period_transactions"
   ]
  },
  {
   "cell_type": "code",
   "execution_count": 103,
   "id": "8cc56fea-022c-42df-b142-ef9a7535e1da",
   "metadata": {},
   "outputs": [],
   "source": [
    "pd.set_option('display.max_columns', None)\n",
    "# pd.set_option('display.max_rows', None)\n",
    "pd.set_option('display.width', 500)\n",
    "pd.set_option('display.float_format', lambda x: '%.3f' % x)\n",
    "warnings.filterwarnings('ignore', category=RuntimeWarning)"
   ]
  },
  {
   "cell_type": "markdown",
   "id": "5c9d63ea-1518-4c60-b61a-18dccd29477d",
   "metadata": {},
   "source": [
    "### 1. Task (1. Görev) : Preparing the Data (Veriyi Hazırlama)"
   ]
  },
  {
   "cell_type": "markdown",
   "id": "1a16d4b2-62ea-4132-95c0-88fe32553b9a",
   "metadata": {},
   "source": [
    "- **Step 1** *Read the flo_data_20K.csv data.*\n",
    "\n",
    "  - (**Adım 1:** *flo_data_20K.csv verisini okuyunuz.*)\n",
    " \n",
    "---"
   ]
  },
  {
   "cell_type": "code",
   "execution_count": 3,
   "id": "de784deb-1e3f-4518-854d-6a69f382b9d3",
   "metadata": {},
   "outputs": [],
   "source": [
    "df_ = pd.read_csv('flo_data_20k.csv')"
   ]
  },
  {
   "cell_type": "code",
   "execution_count": 104,
   "id": "4b8a6d94-1e94-49fd-b156-ae83727892f9",
   "metadata": {},
   "outputs": [],
   "source": [
    "df = df_.copy()"
   ]
  },
  {
   "cell_type": "code",
   "execution_count": 105,
   "id": "4a9e7113-fb3b-4dda-9017-bf564eef145c",
   "metadata": {},
   "outputs": [
    {
     "data": {
      "text/html": [
       "<div>\n",
       "<style scoped>\n",
       "    .dataframe tbody tr th:only-of-type {\n",
       "        vertical-align: middle;\n",
       "    }\n",
       "\n",
       "    .dataframe tbody tr th {\n",
       "        vertical-align: top;\n",
       "    }\n",
       "\n",
       "    .dataframe thead th {\n",
       "        text-align: right;\n",
       "    }\n",
       "</style>\n",
       "<table border=\"1\" class=\"dataframe\">\n",
       "  <thead>\n",
       "    <tr style=\"text-align: right;\">\n",
       "      <th></th>\n",
       "      <th>master_id</th>\n",
       "      <th>order_channel</th>\n",
       "      <th>last_order_channel</th>\n",
       "      <th>first_order_date</th>\n",
       "      <th>last_order_date</th>\n",
       "      <th>last_order_date_online</th>\n",
       "      <th>last_order_date_offline</th>\n",
       "      <th>order_num_total_ever_online</th>\n",
       "      <th>order_num_total_ever_offline</th>\n",
       "      <th>customer_value_total_ever_offline</th>\n",
       "      <th>customer_value_total_ever_online</th>\n",
       "      <th>interested_in_categories_12</th>\n",
       "    </tr>\n",
       "  </thead>\n",
       "  <tbody>\n",
       "    <tr>\n",
       "      <th>0</th>\n",
       "      <td>cc294636-19f0-11eb-8d74-000d3a38a36f</td>\n",
       "      <td>Android App</td>\n",
       "      <td>Offline</td>\n",
       "      <td>2020-10-30</td>\n",
       "      <td>2021-02-26</td>\n",
       "      <td>2021-02-21</td>\n",
       "      <td>2021-02-26</td>\n",
       "      <td>4.000</td>\n",
       "      <td>1.000</td>\n",
       "      <td>139.990</td>\n",
       "      <td>799.380</td>\n",
       "      <td>[KADIN]</td>\n",
       "    </tr>\n",
       "    <tr>\n",
       "      <th>1</th>\n",
       "      <td>f431bd5a-ab7b-11e9-a2fc-000d3a38a36f</td>\n",
       "      <td>Android App</td>\n",
       "      <td>Mobile</td>\n",
       "      <td>2017-02-08</td>\n",
       "      <td>2021-02-16</td>\n",
       "      <td>2021-02-16</td>\n",
       "      <td>2020-01-10</td>\n",
       "      <td>19.000</td>\n",
       "      <td>2.000</td>\n",
       "      <td>159.970</td>\n",
       "      <td>1853.580</td>\n",
       "      <td>[ERKEK, COCUK, KADIN, AKTIFSPOR]</td>\n",
       "    </tr>\n",
       "    <tr>\n",
       "      <th>2</th>\n",
       "      <td>69b69676-1a40-11ea-941b-000d3a38a36f</td>\n",
       "      <td>Android App</td>\n",
       "      <td>Android App</td>\n",
       "      <td>2019-11-27</td>\n",
       "      <td>2020-11-27</td>\n",
       "      <td>2020-11-27</td>\n",
       "      <td>2019-12-01</td>\n",
       "      <td>3.000</td>\n",
       "      <td>2.000</td>\n",
       "      <td>189.970</td>\n",
       "      <td>395.350</td>\n",
       "      <td>[ERKEK, KADIN]</td>\n",
       "    </tr>\n",
       "    <tr>\n",
       "      <th>3</th>\n",
       "      <td>1854e56c-491f-11eb-806e-000d3a38a36f</td>\n",
       "      <td>Android App</td>\n",
       "      <td>Android App</td>\n",
       "      <td>2021-01-06</td>\n",
       "      <td>2021-01-17</td>\n",
       "      <td>2021-01-17</td>\n",
       "      <td>2021-01-06</td>\n",
       "      <td>1.000</td>\n",
       "      <td>1.000</td>\n",
       "      <td>39.990</td>\n",
       "      <td>81.980</td>\n",
       "      <td>[AKTIFCOCUK, COCUK]</td>\n",
       "    </tr>\n",
       "    <tr>\n",
       "      <th>4</th>\n",
       "      <td>d6ea1074-f1f5-11e9-9346-000d3a38a36f</td>\n",
       "      <td>Desktop</td>\n",
       "      <td>Desktop</td>\n",
       "      <td>2019-08-03</td>\n",
       "      <td>2021-03-07</td>\n",
       "      <td>2021-03-07</td>\n",
       "      <td>2019-08-03</td>\n",
       "      <td>1.000</td>\n",
       "      <td>1.000</td>\n",
       "      <td>49.990</td>\n",
       "      <td>159.990</td>\n",
       "      <td>[AKTIFSPOR]</td>\n",
       "    </tr>\n",
       "  </tbody>\n",
       "</table>\n",
       "</div>"
      ],
      "text/plain": [
       "                              master_id order_channel last_order_channel first_order_date last_order_date last_order_date_online last_order_date_offline  order_num_total_ever_online  order_num_total_ever_offline  customer_value_total_ever_offline  customer_value_total_ever_online       interested_in_categories_12\n",
       "0  cc294636-19f0-11eb-8d74-000d3a38a36f   Android App            Offline       2020-10-30      2021-02-26             2021-02-21              2021-02-26                        4.000                         1.000                            139.990                           799.380                           [KADIN]\n",
       "1  f431bd5a-ab7b-11e9-a2fc-000d3a38a36f   Android App             Mobile       2017-02-08      2021-02-16             2021-02-16              2020-01-10                       19.000                         2.000                            159.970                          1853.580  [ERKEK, COCUK, KADIN, AKTIFSPOR]\n",
       "2  69b69676-1a40-11ea-941b-000d3a38a36f   Android App        Android App       2019-11-27      2020-11-27             2020-11-27              2019-12-01                        3.000                         2.000                            189.970                           395.350                    [ERKEK, KADIN]\n",
       "3  1854e56c-491f-11eb-806e-000d3a38a36f   Android App        Android App       2021-01-06      2021-01-17             2021-01-17              2021-01-06                        1.000                         1.000                             39.990                            81.980               [AKTIFCOCUK, COCUK]\n",
       "4  d6ea1074-f1f5-11e9-9346-000d3a38a36f       Desktop            Desktop       2019-08-03      2021-03-07             2021-03-07              2019-08-03                        1.000                         1.000                             49.990                           159.990                       [AKTIFSPOR]"
      ]
     },
     "execution_count": 105,
     "metadata": {},
     "output_type": "execute_result"
    }
   ],
   "source": [
    "df.head()"
   ]
  },
  {
   "cell_type": "markdown",
   "id": "bae86bd5-6137-4655-a425-87d407e4ab3e",
   "metadata": {},
   "source": [
    "---\n",
    "\n",
    "- **Step 2** *Define the outlier_thresholds and replace_with_thresholds functions required to suppress outliers. Note: When calculating cltv, frequency values must be integer. Therefore, round the lower and upper limits with round().*\n",
    "\n",
    "  - (**Adım 2:** *Aykırı değerleri baskılamak için gerekli olan outlier_thresholds ve replace_with_thresholds fonksiyonlarını tanımlayınız.  Not: cltv hesaplanırken frequency değerleri integer olması gerekmektedir.Bu nedenle alt ve üst limitlerini round() ile yuvarlayınız.*)\n",
    " \n",
    "---"
   ]
  },
  {
   "cell_type": "code",
   "execution_count": 106,
   "id": "dbfdd64e-3688-4cb9-a018-87345767183c",
   "metadata": {},
   "outputs": [],
   "source": [
    "def outlier_thresholds(dataframe, variable, q1=0.25, q3=0.75):\n",
    "    quartile1 = dataframe[variable].quantile(q1)\n",
    "    quartile3 = dataframe[variable].quantile(q3)\n",
    "    interquantile_range = quartile3 - quartile1\n",
    "    up_limit = quartile3 + 1.5 * interquantile_range\n",
    "    low_limit = quartile1 - 1.5 * interquantile_range\n",
    "    return up_limit, low_limit"
   ]
  },
  {
   "cell_type": "code",
   "execution_count": 107,
   "id": "e34b3813-30fb-486a-b4e5-9da1d6dbff35",
   "metadata": {},
   "outputs": [],
   "source": [
    "def count_outliers(dataframe, variable, q1=0.25, q3=0.75):\n",
    "    up_limit, low_limit = outlier_thresholds(dataframe, variable, q1, q3)\n",
    "    outliers = dataframe[(dataframe[variable] < low_limit) | (dataframe[variable] > up_limit)]\n",
    "    return outliers.shape[0]"
   ]
  },
  {
   "cell_type": "code",
   "execution_count": 108,
   "id": "8b2656e4-b3f5-4335-84fb-063472de48f3",
   "metadata": {},
   "outputs": [],
   "source": [
    "def replace_with_thresholds(dataframe, variable, q1=0.25, q3=0.75):\n",
    "    up_limit, low_limit = outlier_thresholds(dataframe, variable, q1, q3)\n",
    "    dataframe.loc[(dataframe[variable] < low_limit), variable] = round(low_limit, 0)\n",
    "    dataframe.loc[(dataframe[variable] > up_limit), variable] = round(up_limit, 0)"
   ]
  },
  {
   "cell_type": "code",
   "execution_count": 109,
   "id": "21adbc9b-8ab8-4bd0-92c5-cf8bcf25151d",
   "metadata": {},
   "outputs": [],
   "source": [
    "def check_df(dataframe, head=5):\n",
    "    print('################# shape #################')\n",
    "    print(dataframe.shape)\n",
    "    print('################# head ##################')\n",
    "    print(dataframe.head())\n",
    "    print('################# tail #################')\n",
    "    print(dataframe.tail())\n",
    "    print('################# dtypes #################')\n",
    "    print(dataframe.info())\n",
    "    print('################# NA #################')\n",
    "    print(dataframe.isnull().sum())\n",
    "    print('################# describe #################')\n",
    "    numeric_col = dataframe[[col for col in dataframe.columns if df[col].dtypes in ['int64', 'float64']]]\n",
    "    print(numeric_col.describe().T)\n",
    "    print('################# Quantile #################')\n",
    "    print(numeric_col.quantile([0.05, 0.1, 0.3, 0.5, 0.6, 0.7, 0.8, 0.9, 0.95, 0.99]).T)"
   ]
  },
  {
   "cell_type": "code",
   "execution_count": 110,
   "id": "343dcb03-6bab-4603-90f1-609b42bc75c7",
   "metadata": {},
   "outputs": [
    {
     "name": "stdout",
     "output_type": "stream",
     "text": [
      "################# shape #################\n",
      "(19945, 12)\n",
      "################# head ##################\n",
      "                              master_id order_channel last_order_channel first_order_date last_order_date last_order_date_online last_order_date_offline  order_num_total_ever_online  order_num_total_ever_offline  customer_value_total_ever_offline  customer_value_total_ever_online       interested_in_categories_12\n",
      "0  cc294636-19f0-11eb-8d74-000d3a38a36f   Android App            Offline       2020-10-30      2021-02-26             2021-02-21              2021-02-26                        4.000                         1.000                            139.990                           799.380                           [KADIN]\n",
      "1  f431bd5a-ab7b-11e9-a2fc-000d3a38a36f   Android App             Mobile       2017-02-08      2021-02-16             2021-02-16              2020-01-10                       19.000                         2.000                            159.970                          1853.580  [ERKEK, COCUK, KADIN, AKTIFSPOR]\n",
      "2  69b69676-1a40-11ea-941b-000d3a38a36f   Android App        Android App       2019-11-27      2020-11-27             2020-11-27              2019-12-01                        3.000                         2.000                            189.970                           395.350                    [ERKEK, KADIN]\n",
      "3  1854e56c-491f-11eb-806e-000d3a38a36f   Android App        Android App       2021-01-06      2021-01-17             2021-01-17              2021-01-06                        1.000                         1.000                             39.990                            81.980               [AKTIFCOCUK, COCUK]\n",
      "4  d6ea1074-f1f5-11e9-9346-000d3a38a36f       Desktop            Desktop       2019-08-03      2021-03-07             2021-03-07              2019-08-03                        1.000                         1.000                             49.990                           159.990                       [AKTIFSPOR]\n",
      "################# tail #################\n",
      "                                  master_id order_channel last_order_channel first_order_date last_order_date last_order_date_online last_order_date_offline  order_num_total_ever_online  order_num_total_ever_offline  customer_value_total_ever_offline  customer_value_total_ever_online interested_in_categories_12\n",
      "19940  727e2b6e-ddd4-11e9-a848-000d3a38a36f   Android App            Offline       2019-09-21      2020-07-05             2020-06-05              2020-07-05                        1.000                         2.000                            289.980                           111.980          [ERKEK, AKTIFSPOR]\n",
      "19941  25cd53d4-61bf-11ea-8dd8-000d3a38a36f       Desktop            Desktop       2020-03-01      2020-12-22             2020-12-22              2020-03-01                        1.000                         1.000                            150.480                           239.990                 [AKTIFSPOR]\n",
      "19942  8aea4c2a-d6fc-11e9-93bc-000d3a38a36f       Ios App            Ios App       2019-09-11      2021-05-24             2021-05-24              2019-09-11                        2.000                         1.000                            139.980                           492.960                 [AKTIFSPOR]\n",
      "19943  e50bb46c-ff30-11e9-a5e8-000d3a38a36f   Android App        Android App       2019-03-27      2021-02-13             2021-02-13              2021-01-08                        1.000                         5.000                            711.790                           297.980          [ERKEK, AKTIFSPOR]\n",
      "19944  740998d2-b1f7-11e9-89fa-000d3a38a36f   Android App        Android App       2019-09-03      2020-06-06             2020-06-06              2019-09-03                        1.000                         1.000                             39.990                           221.980          [KADIN, AKTIFSPOR]\n",
      "################# dtypes #################\n",
      "<class 'pandas.core.frame.DataFrame'>\n",
      "RangeIndex: 19945 entries, 0 to 19944\n",
      "Data columns (total 12 columns):\n",
      " #   Column                             Non-Null Count  Dtype  \n",
      "---  ------                             --------------  -----  \n",
      " 0   master_id                          19945 non-null  object \n",
      " 1   order_channel                      19945 non-null  object \n",
      " 2   last_order_channel                 19945 non-null  object \n",
      " 3   first_order_date                   19945 non-null  object \n",
      " 4   last_order_date                    19945 non-null  object \n",
      " 5   last_order_date_online             19945 non-null  object \n",
      " 6   last_order_date_offline            19945 non-null  object \n",
      " 7   order_num_total_ever_online        19945 non-null  float64\n",
      " 8   order_num_total_ever_offline       19945 non-null  float64\n",
      " 9   customer_value_total_ever_offline  19945 non-null  float64\n",
      " 10  customer_value_total_ever_online   19945 non-null  float64\n",
      " 11  interested_in_categories_12        19945 non-null  object \n",
      "dtypes: float64(4), object(8)\n",
      "memory usage: 1.8+ MB\n",
      "None\n",
      "################# NA #################\n",
      "master_id                            0\n",
      "order_channel                        0\n",
      "last_order_channel                   0\n",
      "first_order_date                     0\n",
      "last_order_date                      0\n",
      "last_order_date_online               0\n",
      "last_order_date_offline              0\n",
      "order_num_total_ever_online          0\n",
      "order_num_total_ever_offline         0\n",
      "customer_value_total_ever_offline    0\n",
      "customer_value_total_ever_online     0\n",
      "interested_in_categories_12          0\n",
      "dtype: int64\n",
      "################# describe #################\n",
      "                                      count    mean     std    min     25%     50%     75%       max\n",
      "order_num_total_ever_online       19945.000   3.111   4.226  1.000   1.000   2.000   4.000   200.000\n",
      "order_num_total_ever_offline      19945.000   1.914   2.063  1.000   1.000   1.000   2.000   109.000\n",
      "customer_value_total_ever_offline 19945.000 253.923 301.533 10.000  99.990 179.980 319.970 18119.140\n",
      "customer_value_total_ever_online  19945.000 497.322 832.602 12.990 149.980 286.460 578.440 45220.130\n",
      "################# Quantile #################\n",
      "                                   0.050  0.100   0.300   0.500   0.600   0.700   0.800    0.900    0.950    0.990\n",
      "order_num_total_ever_online        1.000  1.000   1.000   2.000   2.000   3.000   4.000    7.000   10.000   20.000\n",
      "order_num_total_ever_offline       1.000  1.000   1.000   1.000   2.000   2.000   3.000    4.000    4.000    7.000\n",
      "customer_value_total_ever_offline 39.990 59.990 110.480 179.980 220.860 281.868 365.058  519.950  694.222 1219.947\n",
      "customer_value_total_ever_online  63.990 84.990 173.970 286.460 371.944 491.526 690.868 1082.036 1556.726 3143.810\n"
     ]
    }
   ],
   "source": [
    "check_df(df)"
   ]
  },
  {
   "cell_type": "markdown",
   "id": "5491e408-a748-483c-91d3-87ec20f85d07",
   "metadata": {},
   "source": [
    "---\n",
    "\n",
    "- **Step 3** *Suppresses the variables \"order_num_total_ever_online\", \"order_num_total_ever_offline\", \"customer_value_total_ever_offline\", \"customer_value_total_ever_online\" if there are outliers.*\n",
    "\n",
    "  - (**Adım 3:** *\"order_num_total_ever_online\", \"order_num_total_ever_offline\", \"customer_value_total_ever_offline\", \"customer_value_total_ever_online\" değişkenlerinin aykırı değerleri varsa baskılayanız.*)\n",
    " \n",
    "---"
   ]
  },
  {
   "cell_type": "code",
   "execution_count": 111,
   "id": "9f7e89b4-5eb6-4171-bc84-20c8a619521a",
   "metadata": {},
   "outputs": [
    {
     "name": "stdout",
     "output_type": "stream",
     "text": [
      "<class 'pandas.core.frame.DataFrame'>\n",
      "RangeIndex: 19945 entries, 0 to 19944\n",
      "Data columns (total 12 columns):\n",
      " #   Column                             Non-Null Count  Dtype  \n",
      "---  ------                             --------------  -----  \n",
      " 0   master_id                          19945 non-null  object \n",
      " 1   order_channel                      19945 non-null  object \n",
      " 2   last_order_channel                 19945 non-null  object \n",
      " 3   first_order_date                   19945 non-null  object \n",
      " 4   last_order_date                    19945 non-null  object \n",
      " 5   last_order_date_online             19945 non-null  object \n",
      " 6   last_order_date_offline            19945 non-null  object \n",
      " 7   order_num_total_ever_online        19945 non-null  float64\n",
      " 8   order_num_total_ever_offline       19945 non-null  float64\n",
      " 9   customer_value_total_ever_offline  19945 non-null  float64\n",
      " 10  customer_value_total_ever_online   19945 non-null  float64\n",
      " 11  interested_in_categories_12        19945 non-null  object \n",
      "dtypes: float64(4), object(8)\n",
      "memory usage: 1.8+ MB\n"
     ]
    }
   ],
   "source": [
    "df.info()"
   ]
  },
  {
   "cell_type": "code",
   "execution_count": 112,
   "id": "3a0ab8b5-e9ce-4839-bf32-2803cf2ca9a6",
   "metadata": {},
   "outputs": [],
   "source": [
    "num_cols = [col for col in df.columns if df[col].dtypes in ['float64']]"
   ]
  },
  {
   "cell_type": "code",
   "execution_count": 113,
   "id": "28979f31-cefb-4a86-9e9e-2a61c766af98",
   "metadata": {},
   "outputs": [
    {
     "data": {
      "text/plain": [
       "['order_num_total_ever_online',\n",
       " 'order_num_total_ever_offline',\n",
       " 'customer_value_total_ever_offline',\n",
       " 'customer_value_total_ever_online']"
      ]
     },
     "execution_count": 113,
     "metadata": {},
     "output_type": "execute_result"
    }
   ],
   "source": [
    "num_cols"
   ]
  },
  {
   "cell_type": "code",
   "execution_count": 114,
   "id": "820196b7-5cdc-4702-87ff-505070abe118",
   "metadata": {},
   "outputs": [
    {
     "data": {
      "image/png": "[encoded data removed]",
      "text/plain": [
       "<Figure size 640x480 with 1 Axes>"
      ]
     },
     "metadata": {},
     "output_type": "display_data"
    },
    {
     "data": {
      "image/png": "[encoded data removed]",
      "text/plain": [
       "<Figure size 640x480 with 1 Axes>"
      ]
     },
     "metadata": {},
     "output_type": "display_data"
    },
    {
     "data": {
      "image/png": "[encoded data removed]",
      "text/plain": [
       "<Figure size 640x480 with 1 Axes>"
      ]
     },
     "metadata": {},
     "output_type": "display_data"
    },
    {
     "data": {
      "image/png": "[encoded data removed]",
      "text/plain": [
       "<Figure size 640x480 with 1 Axes>"
      ]
     },
     "metadata": {},
     "output_type": "display_data"
    }
   ],
   "source": [
    "for col in num_cols:\n",
    "    plt.title(col)\n",
    "    sns.boxplot(df[col])\n",
    "    plt.show()"
   ]
  },
  {
   "cell_type": "code",
   "execution_count": 115,
   "id": "b09fc9ee-c8d9-487a-8938-4df5960e04c9",
   "metadata": {},
   "outputs": [
    {
     "name": "stdout",
     "output_type": "stream",
     "text": [
      "########## order_num_total_ever_online ##########\n",
      "Outliers: 1255\n",
      "Up Limit: 8.5\n",
      "Low Limit: -3.5\n",
      "Ratio to number of observations: 6.292303835547757\n",
      "---------------------------------------------------------------------\n",
      "########## order_num_total_ever_offline ##########\n",
      "Outliers: 2011\n",
      "Up Limit: 3.5\n",
      "Low Limit: -0.5\n",
      "Ratio to number of observations: 10.082727500626723\n",
      "---------------------------------------------------------------------\n",
      "########## customer_value_total_ever_offline ##########\n",
      "Outliers: 1191\n",
      "Up Limit: 649.94\n",
      "Low Limit: -229.98000000000002\n",
      "Ratio to number of observations: 5.971421408874405\n",
      "---------------------------------------------------------------------\n",
      "########## customer_value_total_ever_online ##########\n",
      "Outliers: 1583\n",
      "Up Limit: 1221.13\n",
      "Low Limit: -492.71000000000004\n",
      "Ratio to number of observations: 7.936826272248684\n",
      "---------------------------------------------------------------------\n"
     ]
    }
   ],
   "source": [
    "# %75\n",
    "\n",
    "for col in num_cols:\n",
    "    count = count_outliers(df, col)\n",
    "    up_limit, low_limit = outlier_thresholds(df, col)\n",
    "    print('##########', col, '##########')\n",
    "    print('Outliers:', count)\n",
    "    print('Up Limit:', up_limit)\n",
    "    print('Low Limit:', low_limit)\n",
    "    print('Ratio to number of observations:', (count / df.shape[0] * 100))\n",
    "    print('---------------------------------------------------------------------')"
   ]
  },
  {
   "cell_type": "code",
   "execution_count": 116,
   "id": "775c82a4-1a3f-42f9-98c1-6a4cd679e8a8",
   "metadata": {},
   "outputs": [
    {
     "name": "stdout",
     "output_type": "stream",
     "text": [
      "########## order_num_total_ever_online ##########\n",
      "Outliers: 296\n",
      "Up Limit: 16.0\n",
      "Low Limit: -8.0\n",
      "Ratio to number of observations: 1.4840812233642517\n",
      "---------------------------------------------------------------------\n",
      "########## order_num_total_ever_offline ##########\n",
      "Outliers: 126\n",
      "Up Limit: 8.5\n",
      "Low Limit: -3.5\n",
      "Ratio to number of observations: 0.6317372775131611\n",
      "---------------------------------------------------------------------\n",
      "########## customer_value_total_ever_offline ##########\n",
      "Outliers: 204\n",
      "Up Limit: 1209.89\n",
      "Low Limit: -629.95\n",
      "Ratio to number of observations: 1.0228127350213085\n",
      "---------------------------------------------------------------------\n",
      "########## customer_value_total_ever_online ##########\n",
      "Outliers: 327\n",
      "Up Limit: 2577.6050000000023\n",
      "Low Limit: -1410.5790000000013\n",
      "Ratio to number of observations: 1.6395086487841566\n",
      "---------------------------------------------------------------------\n"
     ]
    }
   ],
   "source": [
    "# %90\n",
    "\n",
    "for col in num_cols:\n",
    "    count = count_outliers(df, col, q1=0.1, q3=0.90)\n",
    "    up_limit, low_limit = outlier_thresholds(df, col, q1=0.1, q3=0.90)\n",
    "    print('##########', col, '##########')\n",
    "    print('Outliers:', count)\n",
    "    print('Up Limit:', up_limit)\n",
    "    print('Low Limit:', low_limit)\n",
    "    print('Ratio to number of observations:', (count / df.shape[0] * 100))\n",
    "    print('---------------------------------------------------------------------')"
   ]
  },
  {
   "cell_type": "code",
   "execution_count": 117,
   "id": "bfe1e538-5708-4205-92c5-bead0860783b",
   "metadata": {},
   "outputs": [
    {
     "name": "stdout",
     "output_type": "stream",
     "text": [
      "########## order_num_total_ever_online ##########\n",
      "Outliers: 14\n",
      "Up Limit: 48.5\n",
      "Low Limit: -27.5\n",
      "Ratio to number of observations: 0.0701930308347957\n",
      "---------------------------------------------------------------------\n",
      "########## order_num_total_ever_offline ##########\n",
      "Outliers: 20\n",
      "Up Limit: 16.0\n",
      "Low Limit: -8.0\n",
      "Ratio to number of observations: 0.1002757583354224\n",
      "---------------------------------------------------------------------\n",
      "########## customer_value_total_ever_offline ##########\n",
      "Outliers: 17\n",
      "Up Limit: 3019.8820000000005\n",
      "Low Limit: -1779.9452000000003\n",
      "Ratio to number of observations: 0.08523439458510905\n",
      "---------------------------------------------------------------------\n",
      "########## customer_value_total_ever_online ##########\n",
      "Outliers: 13\n",
      "Up Limit: 7799.541000000008\n",
      "Low Limit: -4615.7406000000055\n",
      "Ratio to number of observations: 0.06517924291802457\n",
      "---------------------------------------------------------------------\n"
     ]
    }
   ],
   "source": [
    "# %99\n",
    "\n",
    "for col in num_cols:\n",
    "    count = count_outliers(df, col, q1=0.01, q3=0.99)\n",
    "    up_limit, low_limit = outlier_thresholds(df, col, q1=0.01, q3=0.99)\n",
    "    print('##########', col, '##########')\n",
    "    print('Outliers:', count)\n",
    "    print('Up Limit:', up_limit)\n",
    "    print('Low Limit:', low_limit)\n",
    "    print('Ratio to number of observations:', (count / df.shape[0] * 100))\n",
    "    print('---------------------------------------------------------------------')"
   ]
  },
  {
   "cell_type": "code",
   "execution_count": 118,
   "id": "609d9b4e-f9d3-47c5-90aa-17849e1e99d2",
   "metadata": {},
   "outputs": [],
   "source": [
    "for col in num_cols:\n",
    "    replace_with_thresholds(df, col, q1=0.01, q3=0.99)"
   ]
  },
  {
   "cell_type": "code",
   "execution_count": 119,
   "id": "952de7d0-1edf-438b-b545-9f3db9636c96",
   "metadata": {},
   "outputs": [
    {
     "data": {
      "image/png": "[encoded data removed]",
      "text/plain": [
       "<Figure size 640x480 with 1 Axes>"
      ]
     },
     "metadata": {},
     "output_type": "display_data"
    },
    {
     "data": {
      "image/png": "[encoded data removed]",
      "text/plain": [
       "<Figure size 640x480 with 1 Axes>"
      ]
     },
     "metadata": {},
     "output_type": "display_data"
    },
    {
     "data": {
      "image/png": "[encoded data removed]",
      "text/plain": [
       "<Figure size 640x480 with 1 Axes>"
      ]
     },
     "metadata": {},
     "output_type": "display_data"
    },
    {
     "data": {
      "image/png": "[encoded data removed]",
      "text/plain": [
       "<Figure size 640x480 with 1 Axes>"
      ]
     },
     "metadata": {},
     "output_type": "display_data"
    }
   ],
   "source": [
    "for col in num_cols:\n",
    "    plt.title(col)\n",
    "    sns.boxplot(df[col])\n",
    "    plt.show()"
   ]
  },
  {
   "cell_type": "markdown",
   "id": "7801d30d-fe1a-4797-8d59-c538c8911a7f",
   "metadata": {},
   "source": [
    "---\n",
    "\n",
    "- **Step 4** *Omnichannel refers to customers shopping both online and offline platforms. Total for each customer Create new variables for the number of purchases and spending*\n",
    "\n",
    "  - (**Adım 4:** *Omnichannel müşterilerin hem online'dan hem de offline platformlardan alışveriş yaptığını ifade etmektedir. Her bir müşterinin toplam alışveriş sayısı ve harcaması için yeni değişkenler oluşturunuz*)\n",
    " \n",
    "---"
   ]
  },
  {
   "cell_type": "code",
   "execution_count": 120,
   "id": "828598d8-e3a0-444a-b0aa-9c9dc0906e6f",
   "metadata": {},
   "outputs": [],
   "source": [
    "df['omnichannel_order_total'] = df['order_num_total_ever_online'] + df['order_num_total_ever_offline']"
   ]
  },
  {
   "cell_type": "code",
   "execution_count": 121,
   "id": "51806bc6-c4a5-41e8-b3dd-12db0e61a751",
   "metadata": {},
   "outputs": [],
   "source": [
    "df['omnichannel_customer_value_total'] = df['customer_value_total_ever_offline'] + df['customer_value_total_ever_online']"
   ]
  },
  {
   "cell_type": "markdown",
   "id": "15a8d0d8-5cd5-4291-8a6f-c3f8a03db1fe",
   "metadata": {},
   "source": [
    "---\n",
    "\n",
    "- **Step 5** *Examine the variable types. Change the type of variables expressing date to date.*\n",
    "\n",
    "  - (**Adım 5:** *Değişken tiplerini inceleyiniz. Tarih ifade eden değişkenlerin tipini date'e çeviriniz*)\n",
    " \n",
    "---"
   ]
  },
  {
   "cell_type": "code",
   "execution_count": 122,
   "id": "98371b3d-1e1d-4ec8-a0c7-c5bf4cd1fdf8",
   "metadata": {},
   "outputs": [
    {
     "name": "stdout",
     "output_type": "stream",
     "text": [
      "<class 'pandas.core.frame.DataFrame'>\n",
      "RangeIndex: 19945 entries, 0 to 19944\n",
      "Data columns (total 14 columns):\n",
      " #   Column                             Non-Null Count  Dtype  \n",
      "---  ------                             --------------  -----  \n",
      " 0   master_id                          19945 non-null  object \n",
      " 1   order_channel                      19945 non-null  object \n",
      " 2   last_order_channel                 19945 non-null  object \n",
      " 3   first_order_date                   19945 non-null  object \n",
      " 4   last_order_date                    19945 non-null  object \n",
      " 5   last_order_date_online             19945 non-null  object \n",
      " 6   last_order_date_offline            19945 non-null  object \n",
      " 7   order_num_total_ever_online        19945 non-null  float64\n",
      " 8   order_num_total_ever_offline       19945 non-null  float64\n",
      " 9   customer_value_total_ever_offline  19945 non-null  float64\n",
      " 10  customer_value_total_ever_online   19945 non-null  float64\n",
      " 11  interested_in_categories_12        19945 non-null  object \n",
      " 12  omnichannel_order_total            19945 non-null  float64\n",
      " 13  omnichannel_customer_value_total   19945 non-null  float64\n",
      "dtypes: float64(6), object(8)\n",
      "memory usage: 2.1+ MB\n"
     ]
    }
   ],
   "source": [
    "df.info()"
   ]
  },
  {
   "cell_type": "code",
   "execution_count": 123,
   "id": "e7d033c5-9e6c-4451-a3c5-b5539b91236a",
   "metadata": {},
   "outputs": [],
   "source": [
    "dt_col = [col for col in df.columns if 'date' in col]"
   ]
  },
  {
   "cell_type": "code",
   "execution_count": 124,
   "id": "79beab4d-d290-4924-b367-35de3f1e4179",
   "metadata": {},
   "outputs": [
    {
     "data": {
      "text/plain": [
       "['first_order_date',\n",
       " 'last_order_date',\n",
       " 'last_order_date_online',\n",
       " 'last_order_date_offline']"
      ]
     },
     "execution_count": 124,
     "metadata": {},
     "output_type": "execute_result"
    }
   ],
   "source": [
    "dt_col"
   ]
  },
  {
   "cell_type": "code",
   "execution_count": 125,
   "id": "1aac46a3-6630-42ca-9bbb-766af696b08d",
   "metadata": {},
   "outputs": [],
   "source": [
    "for col in dt_col:\n",
    "    df[col] = pd.to_datetime(df[col])"
   ]
  },
  {
   "cell_type": "code",
   "execution_count": 126,
   "id": "24c43f60-cf7b-43bf-97f8-127907adb95a",
   "metadata": {},
   "outputs": [
    {
     "data": {
      "text/plain": [
       "first_order_date           datetime64[ns]\n",
       "last_order_date            datetime64[ns]\n",
       "last_order_date_online     datetime64[ns]\n",
       "last_order_date_offline    datetime64[ns]\n",
       "dtype: object"
      ]
     },
     "execution_count": 126,
     "metadata": {},
     "output_type": "execute_result"
    }
   ],
   "source": [
    "df[dt_col].dtypes"
   ]
  },
  {
   "cell_type": "markdown",
   "id": "19a652ce-723c-4bdb-bfb1-6bfbe22bd49a",
   "metadata": {},
   "source": [
    "### 2. Task (2. Görev): Creating the CLTV Data Structure (CLTV Veri Yapısının Oluşturulması)"
   ]
  },
  {
   "cell_type": "markdown",
   "id": "2766ac2b-bc56-47dc-989e-cbf583ff98a8",
   "metadata": {},
   "source": [
    "- **Step 1:** *Take 2 days after the date of the last purchase in the data set as the analysis date.*\n",
    "\n",
    "  - (**Adım 1:** *Veri setindeki en son alışverişin yapıldığı tarihten 2 gün sonrasını analiz tarihi olarak alınız.*)\n",
    " \n",
    "---"
   ]
  },
  {
   "cell_type": "code",
   "execution_count": 127,
   "id": "cc6f68ca-4eb1-4487-9c1f-dc616ae0ce81",
   "metadata": {},
   "outputs": [
    {
     "data": {
      "text/html": [
       "<div>\n",
       "<style scoped>\n",
       "    .dataframe tbody tr th:only-of-type {\n",
       "        vertical-align: middle;\n",
       "    }\n",
       "\n",
       "    .dataframe tbody tr th {\n",
       "        vertical-align: top;\n",
       "    }\n",
       "\n",
       "    .dataframe thead th {\n",
       "        text-align: right;\n",
       "    }\n",
       "</style>\n",
       "<table border=\"1\" class=\"dataframe\">\n",
       "  <thead>\n",
       "    <tr style=\"text-align: right;\">\n",
       "      <th></th>\n",
       "      <th>first_order_date</th>\n",
       "      <th>last_order_date</th>\n",
       "      <th>last_order_date_online</th>\n",
       "      <th>last_order_date_offline</th>\n",
       "    </tr>\n",
       "  </thead>\n",
       "  <tbody>\n",
       "    <tr>\n",
       "      <th>0</th>\n",
       "      <td>2020-10-30</td>\n",
       "      <td>2021-02-26</td>\n",
       "      <td>2021-02-21</td>\n",
       "      <td>2021-02-26</td>\n",
       "    </tr>\n",
       "    <tr>\n",
       "      <th>1</th>\n",
       "      <td>2017-02-08</td>\n",
       "      <td>2021-02-16</td>\n",
       "      <td>2021-02-16</td>\n",
       "      <td>2020-01-10</td>\n",
       "    </tr>\n",
       "    <tr>\n",
       "      <th>2</th>\n",
       "      <td>2019-11-27</td>\n",
       "      <td>2020-11-27</td>\n",
       "      <td>2020-11-27</td>\n",
       "      <td>2019-12-01</td>\n",
       "    </tr>\n",
       "    <tr>\n",
       "      <th>3</th>\n",
       "      <td>2021-01-06</td>\n",
       "      <td>2021-01-17</td>\n",
       "      <td>2021-01-17</td>\n",
       "      <td>2021-01-06</td>\n",
       "    </tr>\n",
       "    <tr>\n",
       "      <th>4</th>\n",
       "      <td>2019-08-03</td>\n",
       "      <td>2021-03-07</td>\n",
       "      <td>2021-03-07</td>\n",
       "      <td>2019-08-03</td>\n",
       "    </tr>\n",
       "  </tbody>\n",
       "</table>\n",
       "</div>"
      ],
      "text/plain": [
       "  first_order_date last_order_date last_order_date_online last_order_date_offline\n",
       "0       2020-10-30      2021-02-26             2021-02-21              2021-02-26\n",
       "1       2017-02-08      2021-02-16             2021-02-16              2020-01-10\n",
       "2       2019-11-27      2020-11-27             2020-11-27              2019-12-01\n",
       "3       2021-01-06      2021-01-17             2021-01-17              2021-01-06\n",
       "4       2019-08-03      2021-03-07             2021-03-07              2019-08-03"
      ]
     },
     "execution_count": 127,
     "metadata": {},
     "output_type": "execute_result"
    }
   ],
   "source": [
    "df[dt_col].head()"
   ]
  },
  {
   "cell_type": "code",
   "execution_count": 128,
   "id": "72742f7a-0bc7-4fdf-8cff-f75635bdc9e1",
   "metadata": {},
   "outputs": [
    {
     "data": {
      "text/plain": [
       "Timestamp('2021-05-30 00:00:00')"
      ]
     },
     "execution_count": 128,
     "metadata": {},
     "output_type": "execute_result"
    }
   ],
   "source": [
    "df['last_order_date'].max()"
   ]
  },
  {
   "cell_type": "code",
   "execution_count": 129,
   "id": "48fd9bba-c92a-431d-b3a7-f8b6cb202de7",
   "metadata": {},
   "outputs": [],
   "source": [
    "analysis_date = dt.datetime(2021, 6, 1)"
   ]
  },
  {
   "cell_type": "markdown",
   "id": "fce9de82-4aea-42a7-b233-2ff4671a4cda",
   "metadata": {},
   "source": [
    "---\n",
    "\n",
    "- **Step 2:** *Create a new cltv dataframe containing the values \"customer_id\", \"recency_cltv_weekly\", \"T_weekly\", \"frequency\" and \"monetary_cltv_avg\". \"Monetary\" value will be expressed as the average value per purchase, and \"recency\" and \"tenure\" values will be expressed in weekly terms.*\n",
    "\n",
    "  - (**Adım 2:** *\"customer_id\", \"recency_cltv_weekly\", \"T_weekly\", \"frequency\" ve \"monetary_cltv_avg\" değerlerinin yer aldığı yeni bir cltv dataframe'i oluşturunuz. \"Monetary\" değeri satın alma başına ortalama değer olarak, \"recency\" ve \"tenure\" değerleri ise haftalık cinsten ifade edilecek.*)\n",
    " \n",
    "---"
   ]
  },
  {
   "cell_type": "code",
   "execution_count": 130,
   "id": "3c2385e3-7939-4e7e-82d6-34266e4e9093",
   "metadata": {},
   "outputs": [
    {
     "data": {
      "text/plain": [
       "Index(['master_id', 'order_channel', 'last_order_channel', 'first_order_date', 'last_order_date', 'last_order_date_online', 'last_order_date_offline', 'order_num_total_ever_online', 'order_num_total_ever_offline', 'customer_value_total_ever_offline', 'customer_value_total_ever_online', 'interested_in_categories_12', 'omnichannel_order_total', 'omnichannel_customer_value_total'], dtype='object')"
      ]
     },
     "execution_count": 130,
     "metadata": {},
     "output_type": "execute_result"
    }
   ],
   "source": [
    "df.columns"
   ]
  },
  {
   "cell_type": "code",
   "execution_count": 131,
   "id": "889660e6-1756-48c5-a4f2-6ba17a4f600b",
   "metadata": {},
   "outputs": [],
   "source": [
    "cltv_df = pd.DataFrame()"
   ]
  },
  {
   "cell_type": "markdown",
   "id": "c98f98db-f762-4429-a485-f8f704faaa94",
   "metadata": {},
   "source": [
    "- **Customer ID**"
   ]
  },
  {
   "cell_type": "code",
   "execution_count": 132,
   "id": "5db9c090-de9b-4e30-93c6-98bd8ce548b0",
   "metadata": {},
   "outputs": [],
   "source": [
    "cltv_df['customer id'] = df['master_id']"
   ]
  },
  {
   "cell_type": "markdown",
   "id": "01d90ce8-505d-44af-a8ad-d21300066998",
   "metadata": {},
   "source": [
    "- **Recency**"
   ]
  },
  {
   "cell_type": "code",
   "execution_count": 133,
   "id": "951de00f-1fc0-42c2-9896-60ab02ff13bb",
   "metadata": {},
   "outputs": [],
   "source": [
    "cltv_df['recency_cltv_weekly'] = (df['last_order_date'] - df['first_order_date']).dt.days"
   ]
  },
  {
   "cell_type": "code",
   "execution_count": 134,
   "id": "2e73ecd5-8ae5-4ecd-99b9-3605299d9eac",
   "metadata": {},
   "outputs": [],
   "source": [
    "cltv_df['recency_cltv_weekly'] = cltv_df['recency_cltv_weekly'] / 7"
   ]
  },
  {
   "cell_type": "markdown",
   "id": "17cbac47-667a-4643-b274-813d47da30db",
   "metadata": {},
   "source": [
    "- **T**"
   ]
  },
  {
   "cell_type": "code",
   "execution_count": 135,
   "id": "9e4d5706-aff2-46f6-ba34-269eb1db6922",
   "metadata": {},
   "outputs": [],
   "source": [
    "cltv_df['T_weekly'] = (analysis_date - df['first_order_date']).dt.days"
   ]
  },
  {
   "cell_type": "code",
   "execution_count": 136,
   "id": "40c5fbc4-25d4-46a8-87fc-c2e55127047f",
   "metadata": {},
   "outputs": [],
   "source": [
    "cltv_df['T_weekly'] = cltv_df['T_weekly'] / 7"
   ]
  },
  {
   "cell_type": "markdown",
   "id": "72916e53-1bf2-4569-a865-7efe5df803c6",
   "metadata": {},
   "source": [
    "- **Frequency**"
   ]
  },
  {
   "cell_type": "code",
   "execution_count": 137,
   "id": "8fc90662-6be5-4403-910a-10c804b00545",
   "metadata": {},
   "outputs": [],
   "source": [
    "cltv_df['frequency'] = df['omnichannel_order_total']"
   ]
  },
  {
   "cell_type": "code",
   "execution_count": 138,
   "id": "36da1096-614f-4ed2-a986-f89abb5c234a",
   "metadata": {},
   "outputs": [],
   "source": [
    "cltv_df = cltv_df[cltv_df['frequency'] > 1]"
   ]
  },
  {
   "cell_type": "markdown",
   "id": "9a3aec3e-4ef1-4ccb-8256-583c71ead96b",
   "metadata": {},
   "source": [
    "- **Monetary**"
   ]
  },
  {
   "cell_type": "code",
   "execution_count": 139,
   "id": "deafc1d1-e5e6-42b7-bd02-14a5a0ca0eba",
   "metadata": {},
   "outputs": [],
   "source": [
    "cltv_df['monetary_cltv_avg'] = df['omnichannel_customer_value_total'] / cltv_df['frequency']"
   ]
  },
  {
   "cell_type": "code",
   "execution_count": 140,
   "id": "f4ab50bb-8f46-4d6f-8a79-94825d9b6400",
   "metadata": {},
   "outputs": [
    {
     "data": {
      "text/html": [
       "<div>\n",
       "<style scoped>\n",
       "    .dataframe tbody tr th:only-of-type {\n",
       "        vertical-align: middle;\n",
       "    }\n",
       "\n",
       "    .dataframe tbody tr th {\n",
       "        vertical-align: top;\n",
       "    }\n",
       "\n",
       "    .dataframe thead th {\n",
       "        text-align: right;\n",
       "    }\n",
       "</style>\n",
       "<table border=\"1\" class=\"dataframe\">\n",
       "  <thead>\n",
       "    <tr style=\"text-align: right;\">\n",
       "      <th></th>\n",
       "      <th>customer id</th>\n",
       "      <th>recency_cltv_weekly</th>\n",
       "      <th>T_weekly</th>\n",
       "      <th>frequency</th>\n",
       "      <th>monetary_cltv_avg</th>\n",
       "    </tr>\n",
       "  </thead>\n",
       "  <tbody>\n",
       "    <tr>\n",
       "      <th>0</th>\n",
       "      <td>cc294636-19f0-11eb-8d74-000d3a38a36f</td>\n",
       "      <td>17.000</td>\n",
       "      <td>30.571</td>\n",
       "      <td>5.000</td>\n",
       "      <td>187.874</td>\n",
       "    </tr>\n",
       "    <tr>\n",
       "      <th>1</th>\n",
       "      <td>f431bd5a-ab7b-11e9-a2fc-000d3a38a36f</td>\n",
       "      <td>209.857</td>\n",
       "      <td>224.857</td>\n",
       "      <td>21.000</td>\n",
       "      <td>95.883</td>\n",
       "    </tr>\n",
       "    <tr>\n",
       "      <th>2</th>\n",
       "      <td>69b69676-1a40-11ea-941b-000d3a38a36f</td>\n",
       "      <td>52.286</td>\n",
       "      <td>78.857</td>\n",
       "      <td>5.000</td>\n",
       "      <td>117.064</td>\n",
       "    </tr>\n",
       "    <tr>\n",
       "      <th>3</th>\n",
       "      <td>1854e56c-491f-11eb-806e-000d3a38a36f</td>\n",
       "      <td>1.571</td>\n",
       "      <td>20.857</td>\n",
       "      <td>2.000</td>\n",
       "      <td>60.985</td>\n",
       "    </tr>\n",
       "    <tr>\n",
       "      <th>4</th>\n",
       "      <td>d6ea1074-f1f5-11e9-9346-000d3a38a36f</td>\n",
       "      <td>83.143</td>\n",
       "      <td>95.429</td>\n",
       "      <td>2.000</td>\n",
       "      <td>104.990</td>\n",
       "    </tr>\n",
       "    <tr>\n",
       "      <th>...</th>\n",
       "      <td>...</td>\n",
       "      <td>...</td>\n",
       "      <td>...</td>\n",
       "      <td>...</td>\n",
       "      <td>...</td>\n",
       "    </tr>\n",
       "    <tr>\n",
       "      <th>19940</th>\n",
       "      <td>727e2b6e-ddd4-11e9-a848-000d3a38a36f</td>\n",
       "      <td>41.143</td>\n",
       "      <td>88.429</td>\n",
       "      <td>3.000</td>\n",
       "      <td>133.987</td>\n",
       "    </tr>\n",
       "    <tr>\n",
       "      <th>19941</th>\n",
       "      <td>25cd53d4-61bf-11ea-8dd8-000d3a38a36f</td>\n",
       "      <td>42.286</td>\n",
       "      <td>65.286</td>\n",
       "      <td>2.000</td>\n",
       "      <td>195.235</td>\n",
       "    </tr>\n",
       "    <tr>\n",
       "      <th>19942</th>\n",
       "      <td>8aea4c2a-d6fc-11e9-93bc-000d3a38a36f</td>\n",
       "      <td>88.714</td>\n",
       "      <td>89.857</td>\n",
       "      <td>3.000</td>\n",
       "      <td>210.980</td>\n",
       "    </tr>\n",
       "    <tr>\n",
       "      <th>19943</th>\n",
       "      <td>e50bb46c-ff30-11e9-a5e8-000d3a38a36f</td>\n",
       "      <td>98.429</td>\n",
       "      <td>113.857</td>\n",
       "      <td>6.000</td>\n",
       "      <td>168.295</td>\n",
       "    </tr>\n",
       "    <tr>\n",
       "      <th>19944</th>\n",
       "      <td>740998d2-b1f7-11e9-89fa-000d3a38a36f</td>\n",
       "      <td>39.571</td>\n",
       "      <td>91.000</td>\n",
       "      <td>2.000</td>\n",
       "      <td>130.985</td>\n",
       "    </tr>\n",
       "  </tbody>\n",
       "</table>\n",
       "<p>19945 rows × 5 columns</p>\n",
       "</div>"
      ],
      "text/plain": [
       "                                customer id  recency_cltv_weekly  T_weekly  frequency  monetary_cltv_avg\n",
       "0      cc294636-19f0-11eb-8d74-000d3a38a36f               17.000    30.571      5.000            187.874\n",
       "1      f431bd5a-ab7b-11e9-a2fc-000d3a38a36f              209.857   224.857     21.000             95.883\n",
       "2      69b69676-1a40-11ea-941b-000d3a38a36f               52.286    78.857      5.000            117.064\n",
       "3      1854e56c-491f-11eb-806e-000d3a38a36f                1.571    20.857      2.000             60.985\n",
       "4      d6ea1074-f1f5-11e9-9346-000d3a38a36f               83.143    95.429      2.000            104.990\n",
       "...                                     ...                  ...       ...        ...                ...\n",
       "19940  727e2b6e-ddd4-11e9-a848-000d3a38a36f               41.143    88.429      3.000            133.987\n",
       "19941  25cd53d4-61bf-11ea-8dd8-000d3a38a36f               42.286    65.286      2.000            195.235\n",
       "19942  8aea4c2a-d6fc-11e9-93bc-000d3a38a36f               88.714    89.857      3.000            210.980\n",
       "19943  e50bb46c-ff30-11e9-a5e8-000d3a38a36f               98.429   113.857      6.000            168.295\n",
       "19944  740998d2-b1f7-11e9-89fa-000d3a38a36f               39.571    91.000      2.000            130.985\n",
       "\n",
       "[19945 rows x 5 columns]"
      ]
     },
     "execution_count": 140,
     "metadata": {},
     "output_type": "execute_result"
    }
   ],
   "source": [
    "cltv_df"
   ]
  },
  {
   "cell_type": "markdown",
   "id": "ad57f58b-c2f7-4cc4-abba-189a5e9dcd50",
   "metadata": {},
   "source": [
    "### 3. Task (3. Görev): Establishing BG/NBD, Gamma-Gamma Models and Calculating CLTV (BG/NBD, Gamma-Gamma Modellerinin Kurulması ve CLTV’nin Hesaplanması)"
   ]
  },
  {
   "cell_type": "markdown",
   "id": "84fbbbc6-b8b4-468d-8be2-bff4ecb21c5e",
   "metadata": {},
   "source": [
    "- **Step 1:** *Fit BG/NBD model*\n",
    "\n",
    "  1. *Estimate the expected purchases from customers within 3 months and add it to the cltv dataframe as exp_sales_3_month.*\n",
    " \n",
    "  2. *Estimate the expected purchases from customers within 6 months and add it to the cltv dataframe as exp_sales_6_month.*\n",
    "\n",
    "    - (**Adım 1:** *BG/NBD modelini fit ediniz*\n",
    "      \n",
    "      1. *3 ay içerisinde müşterilerden beklenen satın almaları tahmin ediniz ve exp_sales_3_month olarak cltv dataframe'ine ekleyiniz.*\n",
    "  \n",
    "      2. *6 ay içerisinde müşterilerden beklenen satın almaları tahmin ediniz ve exp_sales_6_month olarak cltv dataframe'ine ekleyiniz.*)\n",
    "     \n",
    "---"
   ]
  },
  {
   "cell_type": "code",
   "execution_count": 141,
   "id": "b6acfd7f-c0cc-4aa6-bab9-f347b73309e7",
   "metadata": {},
   "outputs": [],
   "source": [
    "bgf = BetaGeoFitter(penalizer_coef=0.001)"
   ]
  },
  {
   "cell_type": "code",
   "execution_count": 142,
   "id": "4fcdab90-cbbc-47f2-80c2-1dae30a23894",
   "metadata": {},
   "outputs": [
    {
     "data": {
      "text/plain": [
       "Index(['customer id', 'recency_cltv_weekly', 'T_weekly', 'frequency', 'monetary_cltv_avg'], dtype='object')"
      ]
     },
     "execution_count": 142,
     "metadata": {},
     "output_type": "execute_result"
    }
   ],
   "source": [
    "cltv_df.columns"
   ]
  },
  {
   "cell_type": "code",
   "execution_count": 143,
   "id": "75a9b182-af25-4bd6-8e14-6a61685d9427",
   "metadata": {},
   "outputs": [
    {
     "data": {
      "text/plain": [
       "<lifetimes.BetaGeoFitter: fitted with 19945 subjects, a: 0.00, alpha: 76.17, b: 0.00, r: 3.66>"
      ]
     },
     "execution_count": 143,
     "metadata": {},
     "output_type": "execute_result"
    }
   ],
   "source": [
    "bgf.fit(cltv_df['frequency'],\n",
    "        cltv_df['recency_cltv_weekly'],\n",
    "        cltv_df['T_weekly'])"
   ]
  },
  {
   "cell_type": "code",
   "execution_count": 144,
   "id": "dc77068e-b642-4e9f-a548-6c13de13b9bf",
   "metadata": {},
   "outputs": [],
   "source": [
    "cltv_df['exp_sales_3_month'] = bgf.predict(4 * 3,\n",
    "                                cltv_df['frequency'],\n",
    "                                cltv_df['recency_cltv_weekly'],\n",
    "                                cltv_df['T_weekly'])"
   ]
  },
  {
   "cell_type": "code",
   "execution_count": 145,
   "id": "8d377bf7-d188-43d7-9b6a-affc5cbee756",
   "metadata": {},
   "outputs": [],
   "source": [
    "cltv_df['exp_sales_6_month']= bgf.predict(4 * 6,\n",
    "                                cltv_df['frequency'],\n",
    "                                cltv_df['recency_cltv_weekly'],\n",
    "                                cltv_df['T_weekly'])"
   ]
  },
  {
   "cell_type": "code",
   "execution_count": 146,
   "id": "899a0aad-9f66-4c10-bb34-893cf46a6c0e",
   "metadata": {},
   "outputs": [
    {
     "data": {
      "text/html": [
       "<div>\n",
       "<style scoped>\n",
       "    .dataframe tbody tr th:only-of-type {\n",
       "        vertical-align: middle;\n",
       "    }\n",
       "\n",
       "    .dataframe tbody tr th {\n",
       "        vertical-align: top;\n",
       "    }\n",
       "\n",
       "    .dataframe thead th {\n",
       "        text-align: right;\n",
       "    }\n",
       "</style>\n",
       "<table border=\"1\" class=\"dataframe\">\n",
       "  <thead>\n",
       "    <tr style=\"text-align: right;\">\n",
       "      <th></th>\n",
       "      <th>customer id</th>\n",
       "      <th>recency_cltv_weekly</th>\n",
       "      <th>T_weekly</th>\n",
       "      <th>frequency</th>\n",
       "      <th>monetary_cltv_avg</th>\n",
       "      <th>exp_sales_3_month</th>\n",
       "      <th>exp_sales_6_month</th>\n",
       "    </tr>\n",
       "  </thead>\n",
       "  <tbody>\n",
       "    <tr>\n",
       "      <th>0</th>\n",
       "      <td>cc294636-19f0-11eb-8d74-000d3a38a36f</td>\n",
       "      <td>17.000</td>\n",
       "      <td>30.571</td>\n",
       "      <td>5.000</td>\n",
       "      <td>187.874</td>\n",
       "      <td>0.974</td>\n",
       "      <td>1.948</td>\n",
       "    </tr>\n",
       "    <tr>\n",
       "      <th>1</th>\n",
       "      <td>f431bd5a-ab7b-11e9-a2fc-000d3a38a36f</td>\n",
       "      <td>209.857</td>\n",
       "      <td>224.857</td>\n",
       "      <td>21.000</td>\n",
       "      <td>95.883</td>\n",
       "      <td>0.983</td>\n",
       "      <td>1.966</td>\n",
       "    </tr>\n",
       "    <tr>\n",
       "      <th>2</th>\n",
       "      <td>69b69676-1a40-11ea-941b-000d3a38a36f</td>\n",
       "      <td>52.286</td>\n",
       "      <td>78.857</td>\n",
       "      <td>5.000</td>\n",
       "      <td>117.064</td>\n",
       "      <td>0.671</td>\n",
       "      <td>1.341</td>\n",
       "    </tr>\n",
       "    <tr>\n",
       "      <th>3</th>\n",
       "      <td>1854e56c-491f-11eb-806e-000d3a38a36f</td>\n",
       "      <td>1.571</td>\n",
       "      <td>20.857</td>\n",
       "      <td>2.000</td>\n",
       "      <td>60.985</td>\n",
       "      <td>0.700</td>\n",
       "      <td>1.401</td>\n",
       "    </tr>\n",
       "    <tr>\n",
       "      <th>4</th>\n",
       "      <td>d6ea1074-f1f5-11e9-9346-000d3a38a36f</td>\n",
       "      <td>83.143</td>\n",
       "      <td>95.429</td>\n",
       "      <td>2.000</td>\n",
       "      <td>104.990</td>\n",
       "      <td>0.396</td>\n",
       "      <td>0.792</td>\n",
       "    </tr>\n",
       "  </tbody>\n",
       "</table>\n",
       "</div>"
      ],
      "text/plain": [
       "                            customer id  recency_cltv_weekly  T_weekly  frequency  monetary_cltv_avg  exp_sales_3_month  exp_sales_6_month\n",
       "0  cc294636-19f0-11eb-8d74-000d3a38a36f               17.000    30.571      5.000            187.874              0.974              1.948\n",
       "1  f431bd5a-ab7b-11e9-a2fc-000d3a38a36f              209.857   224.857     21.000             95.883              0.983              1.966\n",
       "2  69b69676-1a40-11ea-941b-000d3a38a36f               52.286    78.857      5.000            117.064              0.671              1.341\n",
       "3  1854e56c-491f-11eb-806e-000d3a38a36f                1.571    20.857      2.000             60.985              0.700              1.401\n",
       "4  d6ea1074-f1f5-11e9-9346-000d3a38a36f               83.143    95.429      2.000            104.990              0.396              0.792"
      ]
     },
     "execution_count": 146,
     "metadata": {},
     "output_type": "execute_result"
    }
   ],
   "source": [
    "cltv_df.head()"
   ]
  },
  {
   "cell_type": "code",
   "execution_count": 147,
   "id": "235c4975-a450-4944-8731-314fca06dfc6",
   "metadata": {},
   "outputs": [
    {
     "data": {
      "image/png": "[encoded data removed]",
      "text/plain": [
       "<Figure size 640x480 with 1 Axes>"
      ]
     },
     "metadata": {},
     "output_type": "display_data"
    }
   ],
   "source": [
    "plot_period_transactions(bgf)\n",
    "plt.show()"
   ]
  },
  {
   "cell_type": "markdown",
   "id": "f7ec24cc-b7a7-4e79-a4d3-75e5a8142e0a",
   "metadata": {},
   "source": [
    "---\n",
    "\n",
    "- **Step 2:** *Fit the Gamma-Gamma model. Estimate the average value that customers will leave and use cltv as exp_average_value\n",
    "Add it to the dataframe.*\n",
    "\n",
    "  - (*Gamma-Gamma modelini fit ediniz. Müşterilerin ortalama bırakacakları değeri tahminleyip exp_average_value olarak cltv dataframe'ine ekleyiniz.*)\n",
    " \n",
    "---"
   ]
  },
  {
   "cell_type": "code",
   "execution_count": 148,
   "id": "6e051cde-d83c-4b5c-b9fa-2a394ab3cbcb",
   "metadata": {},
   "outputs": [],
   "source": [
    "ggf = GammaGammaFitter(penalizer_coef=0.01)"
   ]
  },
  {
   "cell_type": "code",
   "execution_count": 149,
   "id": "ed82bf01-87fd-4cb5-a3ae-0b6cc090a75a",
   "metadata": {},
   "outputs": [
    {
     "data": {
      "text/plain": [
       "<lifetimes.GammaGammaFitter: fitted with 19945 subjects, p: 4.15, q: 0.47, v: 4.08>"
      ]
     },
     "execution_count": 149,
     "metadata": {},
     "output_type": "execute_result"
    }
   ],
   "source": [
    "ggf.fit(cltv_df['frequency'],\n",
    "        cltv_df['monetary_cltv_avg'])"
   ]
  },
  {
   "cell_type": "code",
   "execution_count": 150,
   "id": "49a77b39-7b1c-4fa4-bcae-592ff706060b",
   "metadata": {},
   "outputs": [],
   "source": [
    "cltv_df['exp_average_value'] = ggf.conditional_expected_average_profit(cltv_df['frequency'],\n",
    "                                                                       cltv_df['monetary_cltv_avg'])"
   ]
  },
  {
   "cell_type": "code",
   "execution_count": 151,
   "id": "67fcfa81-ce44-4470-a544-04c68eca9dc3",
   "metadata": {},
   "outputs": [
    {
     "data": {
      "text/html": [
       "<div>\n",
       "<style scoped>\n",
       "    .dataframe tbody tr th:only-of-type {\n",
       "        vertical-align: middle;\n",
       "    }\n",
       "\n",
       "    .dataframe tbody tr th {\n",
       "        vertical-align: top;\n",
       "    }\n",
       "\n",
       "    .dataframe thead th {\n",
       "        text-align: right;\n",
       "    }\n",
       "</style>\n",
       "<table border=\"1\" class=\"dataframe\">\n",
       "  <thead>\n",
       "    <tr style=\"text-align: right;\">\n",
       "      <th></th>\n",
       "      <th>customer id</th>\n",
       "      <th>recency_cltv_weekly</th>\n",
       "      <th>T_weekly</th>\n",
       "      <th>frequency</th>\n",
       "      <th>monetary_cltv_avg</th>\n",
       "      <th>exp_sales_3_month</th>\n",
       "      <th>exp_sales_6_month</th>\n",
       "      <th>exp_average_value</th>\n",
       "    </tr>\n",
       "  </thead>\n",
       "  <tbody>\n",
       "    <tr>\n",
       "      <th>0</th>\n",
       "      <td>cc294636-19f0-11eb-8d74-000d3a38a36f</td>\n",
       "      <td>17.000</td>\n",
       "      <td>30.571</td>\n",
       "      <td>5.000</td>\n",
       "      <td>187.874</td>\n",
       "      <td>0.974</td>\n",
       "      <td>1.948</td>\n",
       "      <td>193.633</td>\n",
       "    </tr>\n",
       "    <tr>\n",
       "      <th>1</th>\n",
       "      <td>f431bd5a-ab7b-11e9-a2fc-000d3a38a36f</td>\n",
       "      <td>209.857</td>\n",
       "      <td>224.857</td>\n",
       "      <td>21.000</td>\n",
       "      <td>95.883</td>\n",
       "      <td>0.983</td>\n",
       "      <td>1.966</td>\n",
       "      <td>96.665</td>\n",
       "    </tr>\n",
       "    <tr>\n",
       "      <th>2</th>\n",
       "      <td>69b69676-1a40-11ea-941b-000d3a38a36f</td>\n",
       "      <td>52.286</td>\n",
       "      <td>78.857</td>\n",
       "      <td>5.000</td>\n",
       "      <td>117.064</td>\n",
       "      <td>0.671</td>\n",
       "      <td>1.341</td>\n",
       "      <td>120.968</td>\n",
       "    </tr>\n",
       "    <tr>\n",
       "      <th>3</th>\n",
       "      <td>1854e56c-491f-11eb-806e-000d3a38a36f</td>\n",
       "      <td>1.571</td>\n",
       "      <td>20.857</td>\n",
       "      <td>2.000</td>\n",
       "      <td>60.985</td>\n",
       "      <td>0.700</td>\n",
       "      <td>1.401</td>\n",
       "      <td>67.320</td>\n",
       "    </tr>\n",
       "    <tr>\n",
       "      <th>4</th>\n",
       "      <td>d6ea1074-f1f5-11e9-9346-000d3a38a36f</td>\n",
       "      <td>83.143</td>\n",
       "      <td>95.429</td>\n",
       "      <td>2.000</td>\n",
       "      <td>104.990</td>\n",
       "      <td>0.396</td>\n",
       "      <td>0.792</td>\n",
       "      <td>114.325</td>\n",
       "    </tr>\n",
       "  </tbody>\n",
       "</table>\n",
       "</div>"
      ],
      "text/plain": [
       "                            customer id  recency_cltv_weekly  T_weekly  frequency  monetary_cltv_avg  exp_sales_3_month  exp_sales_6_month  exp_average_value\n",
       "0  cc294636-19f0-11eb-8d74-000d3a38a36f               17.000    30.571      5.000            187.874              0.974              1.948            193.633\n",
       "1  f431bd5a-ab7b-11e9-a2fc-000d3a38a36f              209.857   224.857     21.000             95.883              0.983              1.966             96.665\n",
       "2  69b69676-1a40-11ea-941b-000d3a38a36f               52.286    78.857      5.000            117.064              0.671              1.341            120.968\n",
       "3  1854e56c-491f-11eb-806e-000d3a38a36f                1.571    20.857      2.000             60.985              0.700              1.401             67.320\n",
       "4  d6ea1074-f1f5-11e9-9346-000d3a38a36f               83.143    95.429      2.000            104.990              0.396              0.792            114.325"
      ]
     },
     "execution_count": 151,
     "metadata": {},
     "output_type": "execute_result"
    }
   ],
   "source": [
    "cltv_df.head()"
   ]
  },
  {
   "cell_type": "markdown",
   "id": "ce664a04-c076-47bd-96f6-cb074bab6974",
   "metadata": {},
   "source": [
    "---\n",
    "\n",
    "- **Step 3:** *Calculate 6-month CLTV and add it to the dataframe with the name cltv.*\n",
    "\n",
    "  1. *Observe the 20 people with the highest Cltv value.*\n",
    "\n",
    "     - (**Adım 3:** *6 aylık CLTV hesaplayınız ve cltv ismiyle dataframe'e ekleyiniz.*\n",
    "     \n",
    "       1. *Cltv değeri en yüksek 20 kişiyi gözlemleyiniz.*)\n",
    "  \n",
    "---"
   ]
  },
  {
   "cell_type": "code",
   "execution_count": 152,
   "id": "6f97873e-082b-44cf-a152-3ee09f0ecdb8",
   "metadata": {},
   "outputs": [],
   "source": [
    "cltv_df.set_index('customer id', inplace=True)"
   ]
  },
  {
   "cell_type": "code",
   "execution_count": 153,
   "id": "4583b544-cdb4-466c-8a8c-340772c6725d",
   "metadata": {},
   "outputs": [],
   "source": [
    "cltv = ggf.customer_lifetime_value(bgf,\n",
    "                                   cltv_df['frequency'],\n",
    "                                   cltv_df['recency_cltv_weekly'],\n",
    "                                   cltv_df['T_weekly'],\n",
    "                                   cltv_df['monetary_cltv_avg'],\n",
    "                                   time = 6,\n",
    "                                   freq = 'W',\n",
    "                                   discount_rate=0.01)"
   ]
  },
  {
   "cell_type": "code",
   "execution_count": 154,
   "id": "ae18c1a9-5c45-472c-96a6-00660c4936db",
   "metadata": {},
   "outputs": [
    {
     "data": {
      "text/plain": [
       "customer id\n",
       "cc294636-19f0-11eb-8d74-000d3a38a36f   395.733\n",
       "f431bd5a-ab7b-11e9-a2fc-000d3a38a36f   199.431\n",
       "69b69676-1a40-11ea-941b-000d3a38a36f   170.224\n",
       "1854e56c-491f-11eb-806e-000d3a38a36f    98.946\n",
       "d6ea1074-f1f5-11e9-9346-000d3a38a36f    95.012\n",
       "                                         ...  \n",
       "727e2b6e-ddd4-11e9-a848-000d3a38a36f   144.102\n",
       "25cd53d4-61bf-11ea-8dd8-000d3a38a36f   212.441\n",
       "8aea4c2a-d6fc-11e9-93bc-000d3a38a36f   224.131\n",
       "e50bb46c-ff30-11e9-a5e8-000d3a38a36f   221.079\n",
       "740998d2-b1f7-11e9-89fa-000d3a38a36f   121.216\n",
       "Name: clv, Length: 19945, dtype: float64"
      ]
     },
     "execution_count": 154,
     "metadata": {},
     "output_type": "execute_result"
    }
   ],
   "source": [
    "cltv"
   ]
  },
  {
   "cell_type": "code",
   "execution_count": 155,
   "id": "b73718e5-1356-4182-ab5f-587391f1a1d8",
   "metadata": {},
   "outputs": [],
   "source": [
    "cltv = cltv.reset_index()"
   ]
  },
  {
   "cell_type": "code",
   "execution_count": 156,
   "id": "31b07b6e-c11f-4b19-8537-93a84fe7416d",
   "metadata": {},
   "outputs": [],
   "source": [
    "cltv_final = cltv_df.merge(cltv, on='customer id', how='left')"
   ]
  },
  {
   "cell_type": "code",
   "execution_count": 157,
   "id": "8e15666d-d30a-48d8-bade-3eeab0cf9893",
   "metadata": {},
   "outputs": [],
   "source": [
    "cltv_final.rename(columns={'clv': 'cltv'}, inplace=True)"
   ]
  },
  {
   "cell_type": "code",
   "execution_count": 158,
   "id": "5e39c3a4-34b5-4960-9125-77bc2a15badf",
   "metadata": {},
   "outputs": [
    {
     "data": {
      "text/html": [
       "<div>\n",
       "<style scoped>\n",
       "    .dataframe tbody tr th:only-of-type {\n",
       "        vertical-align: middle;\n",
       "    }\n",
       "\n",
       "    .dataframe tbody tr th {\n",
       "        vertical-align: top;\n",
       "    }\n",
       "\n",
       "    .dataframe thead th {\n",
       "        text-align: right;\n",
       "    }\n",
       "</style>\n",
       "<table border=\"1\" class=\"dataframe\">\n",
       "  <thead>\n",
       "    <tr style=\"text-align: right;\">\n",
       "      <th></th>\n",
       "      <th>customer id</th>\n",
       "      <th>recency_cltv_weekly</th>\n",
       "      <th>T_weekly</th>\n",
       "      <th>frequency</th>\n",
       "      <th>monetary_cltv_avg</th>\n",
       "      <th>exp_sales_3_month</th>\n",
       "      <th>exp_sales_6_month</th>\n",
       "      <th>exp_average_value</th>\n",
       "      <th>cltv</th>\n",
       "    </tr>\n",
       "  </thead>\n",
       "  <tbody>\n",
       "    <tr>\n",
       "      <th>9055</th>\n",
       "      <td>47a642fe-975b-11eb-8c2a-000d3a38a36f</td>\n",
       "      <td>2.857</td>\n",
       "      <td>7.857</td>\n",
       "      <td>4.000</td>\n",
       "      <td>1401.800</td>\n",
       "      <td>1.094</td>\n",
       "      <td>2.189</td>\n",
       "      <td>1449.060</td>\n",
       "      <td>3327.777</td>\n",
       "    </tr>\n",
       "    <tr>\n",
       "      <th>13880</th>\n",
       "      <td>7137a5c0-7aad-11ea-8f20-000d3a38a36f</td>\n",
       "      <td>6.143</td>\n",
       "      <td>13.143</td>\n",
       "      <td>11.000</td>\n",
       "      <td>758.085</td>\n",
       "      <td>1.970</td>\n",
       "      <td>3.940</td>\n",
       "      <td>767.361</td>\n",
       "      <td>3172.394</td>\n",
       "    </tr>\n",
       "    <tr>\n",
       "      <th>17323</th>\n",
       "      <td>f59053e2-a503-11e9-a2fc-000d3a38a36f</td>\n",
       "      <td>51.714</td>\n",
       "      <td>101.000</td>\n",
       "      <td>7.000</td>\n",
       "      <td>1106.467</td>\n",
       "      <td>0.722</td>\n",
       "      <td>1.444</td>\n",
       "      <td>1127.612</td>\n",
       "      <td>1708.982</td>\n",
       "    </tr>\n",
       "    <tr>\n",
       "      <th>12438</th>\n",
       "      <td>625f40a2-5bd2-11ea-98b0-000d3a38a36f</td>\n",
       "      <td>74.286</td>\n",
       "      <td>74.571</td>\n",
       "      <td>16.000</td>\n",
       "      <td>501.874</td>\n",
       "      <td>1.565</td>\n",
       "      <td>3.131</td>\n",
       "      <td>506.167</td>\n",
       "      <td>1662.613</td>\n",
       "    </tr>\n",
       "    <tr>\n",
       "      <th>7330</th>\n",
       "      <td>a4d534a2-5b1b-11eb-8dbd-000d3a38a36f</td>\n",
       "      <td>62.714</td>\n",
       "      <td>67.286</td>\n",
       "      <td>52.000</td>\n",
       "      <td>166.225</td>\n",
       "      <td>4.656</td>\n",
       "      <td>9.312</td>\n",
       "      <td>166.712</td>\n",
       "      <td>1628.887</td>\n",
       "    </tr>\n",
       "    <tr>\n",
       "      <th>8868</th>\n",
       "      <td>9ce6e520-89b0-11ea-a6e7-000d3a38a36f</td>\n",
       "      <td>3.429</td>\n",
       "      <td>34.429</td>\n",
       "      <td>8.000</td>\n",
       "      <td>601.226</td>\n",
       "      <td>1.265</td>\n",
       "      <td>2.531</td>\n",
       "      <td>611.493</td>\n",
       "      <td>1623.813</td>\n",
       "    </tr>\n",
       "    <tr>\n",
       "      <th>6402</th>\n",
       "      <td>851de3b4-8f0c-11eb-8cb8-000d3a38a36f</td>\n",
       "      <td>8.286</td>\n",
       "      <td>9.429</td>\n",
       "      <td>2.000</td>\n",
       "      <td>862.690</td>\n",
       "      <td>0.794</td>\n",
       "      <td>1.588</td>\n",
       "      <td>923.680</td>\n",
       "      <td>1538.856</td>\n",
       "    </tr>\n",
       "    <tr>\n",
       "      <th>6666</th>\n",
       "      <td>53fe00d4-7b7a-11eb-960b-000d3a38a36f</td>\n",
       "      <td>9.714</td>\n",
       "      <td>13.000</td>\n",
       "      <td>17.000</td>\n",
       "      <td>259.865</td>\n",
       "      <td>2.781</td>\n",
       "      <td>5.561</td>\n",
       "      <td>262.073</td>\n",
       "      <td>1529.228</td>\n",
       "    </tr>\n",
       "    <tr>\n",
       "      <th>19538</th>\n",
       "      <td>55d54d9e-8ac7-11ea-8ec0-000d3a38a36f</td>\n",
       "      <td>52.571</td>\n",
       "      <td>58.714</td>\n",
       "      <td>31.000</td>\n",
       "      <td>228.530</td>\n",
       "      <td>3.084</td>\n",
       "      <td>6.168</td>\n",
       "      <td>229.607</td>\n",
       "      <td>1485.819</td>\n",
       "    </tr>\n",
       "    <tr>\n",
       "      <th>14858</th>\n",
       "      <td>031b2954-6d28-11eb-99c4-000d3a38a36f</td>\n",
       "      <td>14.857</td>\n",
       "      <td>15.571</td>\n",
       "      <td>3.000</td>\n",
       "      <td>743.587</td>\n",
       "      <td>0.872</td>\n",
       "      <td>1.743</td>\n",
       "      <td>778.050</td>\n",
       "      <td>1423.000</td>\n",
       "    </tr>\n",
       "    <tr>\n",
       "      <th>17963</th>\n",
       "      <td>8fd88976-6708-11ea-9d38-000d3a38a36f</td>\n",
       "      <td>50.286</td>\n",
       "      <td>63.286</td>\n",
       "      <td>7.000</td>\n",
       "      <td>694.199</td>\n",
       "      <td>0.918</td>\n",
       "      <td>1.835</td>\n",
       "      <td>707.686</td>\n",
       "      <td>1362.607</td>\n",
       "    </tr>\n",
       "    <tr>\n",
       "      <th>15516</th>\n",
       "      <td>9083981a-f59e-11e9-841e-000d3a38a36f</td>\n",
       "      <td>63.571</td>\n",
       "      <td>83.857</td>\n",
       "      <td>4.000</td>\n",
       "      <td>1090.360</td>\n",
       "      <td>0.575</td>\n",
       "      <td>1.149</td>\n",
       "      <td>1127.354</td>\n",
       "      <td>1359.440</td>\n",
       "    </tr>\n",
       "    <tr>\n",
       "      <th>6717</th>\n",
       "      <td>40b4f318-9dfb-11eb-9c47-000d3a38a36f</td>\n",
       "      <td>27.143</td>\n",
       "      <td>33.857</td>\n",
       "      <td>7.000</td>\n",
       "      <td>544.700</td>\n",
       "      <td>1.163</td>\n",
       "      <td>2.326</td>\n",
       "      <td>555.410</td>\n",
       "      <td>1355.435</td>\n",
       "    </tr>\n",
       "    <tr>\n",
       "      <th>4157</th>\n",
       "      <td>7eed6468-4540-11ea-acaf-000d3a38a36f</td>\n",
       "      <td>89.143</td>\n",
       "      <td>90.000</td>\n",
       "      <td>27.000</td>\n",
       "      <td>289.764</td>\n",
       "      <td>2.214</td>\n",
       "      <td>4.429</td>\n",
       "      <td>291.292</td>\n",
       "      <td>1353.534</td>\n",
       "    </tr>\n",
       "    <tr>\n",
       "      <th>4735</th>\n",
       "      <td>dbabb58e-6312-11ea-a6dc-000d3a38a36f</td>\n",
       "      <td>61.286</td>\n",
       "      <td>64.286</td>\n",
       "      <td>13.000</td>\n",
       "      <td>442.115</td>\n",
       "      <td>1.424</td>\n",
       "      <td>2.847</td>\n",
       "      <td>446.816</td>\n",
       "      <td>1334.825</td>\n",
       "    </tr>\n",
       "    <tr>\n",
       "      <th>11694</th>\n",
       "      <td>90f1b7f2-bbad-11ea-a0c9-000d3a38a36f</td>\n",
       "      <td>47.286</td>\n",
       "      <td>48.000</td>\n",
       "      <td>6.000</td>\n",
       "      <td>647.345</td>\n",
       "      <td>0.934</td>\n",
       "      <td>1.868</td>\n",
       "      <td>662.110</td>\n",
       "      <td>1297.519</td>\n",
       "    </tr>\n",
       "    <tr>\n",
       "      <th>11179</th>\n",
       "      <td>d2e74a36-3228-11eb-860c-000d3a38a36f</td>\n",
       "      <td>1.143</td>\n",
       "      <td>26.286</td>\n",
       "      <td>3.000</td>\n",
       "      <td>750.570</td>\n",
       "      <td>0.780</td>\n",
       "      <td>1.561</td>\n",
       "      <td>785.344</td>\n",
       "      <td>1286.138</td>\n",
       "    </tr>\n",
       "    <tr>\n",
       "      <th>1853</th>\n",
       "      <td>f02473b0-43c3-11eb-806e-000d3a38a36f</td>\n",
       "      <td>17.286</td>\n",
       "      <td>23.143</td>\n",
       "      <td>2.000</td>\n",
       "      <td>835.875</td>\n",
       "      <td>0.684</td>\n",
       "      <td>1.369</td>\n",
       "      <td>895.037</td>\n",
       "      <td>1285.228</td>\n",
       "    </tr>\n",
       "    <tr>\n",
       "      <th>5775</th>\n",
       "      <td>e31293ac-d63a-11e9-93bc-000d3a38a36f</td>\n",
       "      <td>91.714</td>\n",
       "      <td>93.143</td>\n",
       "      <td>8.000</td>\n",
       "      <td>727.086</td>\n",
       "      <td>0.827</td>\n",
       "      <td>1.653</td>\n",
       "      <td>739.393</td>\n",
       "      <td>1282.576</td>\n",
       "    </tr>\n",
       "    <tr>\n",
       "      <th>7312</th>\n",
       "      <td>90befc98-925a-11eb-b584-000d3a38a36f</td>\n",
       "      <td>4.143</td>\n",
       "      <td>8.857</td>\n",
       "      <td>6.000</td>\n",
       "      <td>431.328</td>\n",
       "      <td>1.364</td>\n",
       "      <td>2.728</td>\n",
       "      <td>441.398</td>\n",
       "      <td>1263.191</td>\n",
       "    </tr>\n",
       "  </tbody>\n",
       "</table>\n",
       "</div>"
      ],
      "text/plain": [
       "                                customer id  recency_cltv_weekly  T_weekly  frequency  monetary_cltv_avg  exp_sales_3_month  exp_sales_6_month  exp_average_value     cltv\n",
       "9055   47a642fe-975b-11eb-8c2a-000d3a38a36f                2.857     7.857      4.000           1401.800              1.094              2.189           1449.060 3327.777\n",
       "13880  7137a5c0-7aad-11ea-8f20-000d3a38a36f                6.143    13.143     11.000            758.085              1.970              3.940            767.361 3172.394\n",
       "17323  f59053e2-a503-11e9-a2fc-000d3a38a36f               51.714   101.000      7.000           1106.467              0.722              1.444           1127.612 1708.982\n",
       "12438  625f40a2-5bd2-11ea-98b0-000d3a38a36f               74.286    74.571     16.000            501.874              1.565              3.131            506.167 1662.613\n",
       "7330   a4d534a2-5b1b-11eb-8dbd-000d3a38a36f               62.714    67.286     52.000            166.225              4.656              9.312            166.712 1628.887\n",
       "8868   9ce6e520-89b0-11ea-a6e7-000d3a38a36f                3.429    34.429      8.000            601.226              1.265              2.531            611.493 1623.813\n",
       "6402   851de3b4-8f0c-11eb-8cb8-000d3a38a36f                8.286     9.429      2.000            862.690              0.794              1.588            923.680 1538.856\n",
       "6666   53fe00d4-7b7a-11eb-960b-000d3a38a36f                9.714    13.000     17.000            259.865              2.781              5.561            262.073 1529.228\n",
       "19538  55d54d9e-8ac7-11ea-8ec0-000d3a38a36f               52.571    58.714     31.000            228.530              3.084              6.168            229.607 1485.819\n",
       "14858  031b2954-6d28-11eb-99c4-000d3a38a36f               14.857    15.571      3.000            743.587              0.872              1.743            778.050 1423.000\n",
       "17963  8fd88976-6708-11ea-9d38-000d3a38a36f               50.286    63.286      7.000            694.199              0.918              1.835            707.686 1362.607\n",
       "15516  9083981a-f59e-11e9-841e-000d3a38a36f               63.571    83.857      4.000           1090.360              0.575              1.149           1127.354 1359.440\n",
       "6717   40b4f318-9dfb-11eb-9c47-000d3a38a36f               27.143    33.857      7.000            544.700              1.163              2.326            555.410 1355.435\n",
       "4157   7eed6468-4540-11ea-acaf-000d3a38a36f               89.143    90.000     27.000            289.764              2.214              4.429            291.292 1353.534\n",
       "4735   dbabb58e-6312-11ea-a6dc-000d3a38a36f               61.286    64.286     13.000            442.115              1.424              2.847            446.816 1334.825\n",
       "11694  90f1b7f2-bbad-11ea-a0c9-000d3a38a36f               47.286    48.000      6.000            647.345              0.934              1.868            662.110 1297.519\n",
       "11179  d2e74a36-3228-11eb-860c-000d3a38a36f                1.143    26.286      3.000            750.570              0.780              1.561            785.344 1286.138\n",
       "1853   f02473b0-43c3-11eb-806e-000d3a38a36f               17.286    23.143      2.000            835.875              0.684              1.369            895.037 1285.228\n",
       "5775   e31293ac-d63a-11e9-93bc-000d3a38a36f               91.714    93.143      8.000            727.086              0.827              1.653            739.393 1282.576\n",
       "7312   90befc98-925a-11eb-b584-000d3a38a36f                4.143     8.857      6.000            431.328              1.364              2.728            441.398 1263.191"
      ]
     },
     "execution_count": 158,
     "metadata": {},
     "output_type": "execute_result"
    }
   ],
   "source": [
    "cltv_final.sort_values(by='cltv', ascending=False).head(20)"
   ]
  },
  {
   "cell_type": "code",
   "execution_count": 159,
   "id": "e3df2f2b-e6da-4a00-b7aa-b83c92a56d33",
   "metadata": {},
   "outputs": [
    {
     "data": {
      "text/html": [
       "<div>\n",
       "<style scoped>\n",
       "    .dataframe tbody tr th:only-of-type {\n",
       "        vertical-align: middle;\n",
       "    }\n",
       "\n",
       "    .dataframe tbody tr th {\n",
       "        vertical-align: top;\n",
       "    }\n",
       "\n",
       "    .dataframe thead th {\n",
       "        text-align: right;\n",
       "    }\n",
       "</style>\n",
       "<table border=\"1\" class=\"dataframe\">\n",
       "  <thead>\n",
       "    <tr style=\"text-align: right;\">\n",
       "      <th></th>\n",
       "      <th>count</th>\n",
       "      <th>mean</th>\n",
       "      <th>std</th>\n",
       "      <th>min</th>\n",
       "      <th>5%</th>\n",
       "      <th>25%</th>\n",
       "      <th>50%</th>\n",
       "      <th>60%</th>\n",
       "      <th>70%</th>\n",
       "      <th>75%</th>\n",
       "      <th>80%</th>\n",
       "      <th>85%</th>\n",
       "      <th>90%</th>\n",
       "      <th>95%</th>\n",
       "      <th>99%</th>\n",
       "      <th>max</th>\n",
       "    </tr>\n",
       "  </thead>\n",
       "  <tbody>\n",
       "    <tr>\n",
       "      <th>recency_cltv_weekly</th>\n",
       "      <td>19945.000</td>\n",
       "      <td>95.263</td>\n",
       "      <td>74.589</td>\n",
       "      <td>0.000</td>\n",
       "      <td>12.571</td>\n",
       "      <td>50.429</td>\n",
       "      <td>76.571</td>\n",
       "      <td>86.714</td>\n",
       "      <td>100.000</td>\n",
       "      <td>109.429</td>\n",
       "      <td>120.286</td>\n",
       "      <td>154.771</td>\n",
       "      <td>200.943</td>\n",
       "      <td>276.686</td>\n",
       "      <td>350.223</td>\n",
       "      <td>433.429</td>\n",
       "    </tr>\n",
       "    <tr>\n",
       "      <th>T_weekly</th>\n",
       "      <td>19945.000</td>\n",
       "      <td>114.472</td>\n",
       "      <td>74.771</td>\n",
       "      <td>0.714</td>\n",
       "      <td>29.886</td>\n",
       "      <td>73.857</td>\n",
       "      <td>93.000</td>\n",
       "      <td>104.286</td>\n",
       "      <td>116.286</td>\n",
       "      <td>119.429</td>\n",
       "      <td>138.171</td>\n",
       "      <td>177.057</td>\n",
       "      <td>220.571</td>\n",
       "      <td>296.286</td>\n",
       "      <td>372.143</td>\n",
       "      <td>437.143</td>\n",
       "    </tr>\n",
       "    <tr>\n",
       "      <th>frequency</th>\n",
       "      <td>19945.000</td>\n",
       "      <td>4.978</td>\n",
       "      <td>4.121</td>\n",
       "      <td>2.000</td>\n",
       "      <td>2.000</td>\n",
       "      <td>3.000</td>\n",
       "      <td>4.000</td>\n",
       "      <td>4.000</td>\n",
       "      <td>5.000</td>\n",
       "      <td>6.000</td>\n",
       "      <td>7.000</td>\n",
       "      <td>8.000</td>\n",
       "      <td>9.000</td>\n",
       "      <td>12.000</td>\n",
       "      <td>22.000</td>\n",
       "      <td>57.000</td>\n",
       "    </tr>\n",
       "    <tr>\n",
       "      <th>monetary_cltv_avg</th>\n",
       "      <td>19945.000</td>\n",
       "      <td>152.099</td>\n",
       "      <td>73.524</td>\n",
       "      <td>22.490</td>\n",
       "      <td>68.490</td>\n",
       "      <td>103.653</td>\n",
       "      <td>136.906</td>\n",
       "      <td>152.675</td>\n",
       "      <td>170.717</td>\n",
       "      <td>182.450</td>\n",
       "      <td>196.052</td>\n",
       "      <td>213.868</td>\n",
       "      <td>238.670</td>\n",
       "      <td>285.368</td>\n",
       "      <td>402.702</td>\n",
       "      <td>1401.800</td>\n",
       "    </tr>\n",
       "    <tr>\n",
       "      <th>exp_sales_3_month</th>\n",
       "      <td>19945.000</td>\n",
       "      <td>0.577</td>\n",
       "      <td>0.231</td>\n",
       "      <td>0.149</td>\n",
       "      <td>0.287</td>\n",
       "      <td>0.434</td>\n",
       "      <td>0.535</td>\n",
       "      <td>0.580</td>\n",
       "      <td>0.637</td>\n",
       "      <td>0.670</td>\n",
       "      <td>0.713</td>\n",
       "      <td>0.766</td>\n",
       "      <td>0.840</td>\n",
       "      <td>0.982</td>\n",
       "      <td>1.370</td>\n",
       "      <td>4.656</td>\n",
       "    </tr>\n",
       "    <tr>\n",
       "      <th>exp_sales_6_month</th>\n",
       "      <td>19945.000</td>\n",
       "      <td>1.154</td>\n",
       "      <td>0.463</td>\n",
       "      <td>0.299</td>\n",
       "      <td>0.574</td>\n",
       "      <td>0.868</td>\n",
       "      <td>1.071</td>\n",
       "      <td>1.160</td>\n",
       "      <td>1.275</td>\n",
       "      <td>1.340</td>\n",
       "      <td>1.426</td>\n",
       "      <td>1.532</td>\n",
       "      <td>1.680</td>\n",
       "      <td>1.964</td>\n",
       "      <td>2.740</td>\n",
       "      <td>9.312</td>\n",
       "    </tr>\n",
       "    <tr>\n",
       "      <th>exp_average_value</th>\n",
       "      <td>19945.000</td>\n",
       "      <td>159.239</td>\n",
       "      <td>77.019</td>\n",
       "      <td>25.083</td>\n",
       "      <td>72.568</td>\n",
       "      <td>108.771</td>\n",
       "      <td>142.917</td>\n",
       "      <td>159.326</td>\n",
       "      <td>178.410</td>\n",
       "      <td>190.446</td>\n",
       "      <td>205.048</td>\n",
       "      <td>223.810</td>\n",
       "      <td>250.314</td>\n",
       "      <td>299.279</td>\n",
       "      <td>423.455</td>\n",
       "      <td>1449.060</td>\n",
       "    </tr>\n",
       "    <tr>\n",
       "      <th>cltv</th>\n",
       "      <td>19945.000</td>\n",
       "      <td>195.119</td>\n",
       "      <td>132.878</td>\n",
       "      <td>12.108</td>\n",
       "      <td>60.371</td>\n",
       "      <td>112.245</td>\n",
       "      <td>165.469</td>\n",
       "      <td>191.119</td>\n",
       "      <td>221.203</td>\n",
       "      <td>240.058</td>\n",
       "      <td>263.362</td>\n",
       "      <td>294.464</td>\n",
       "      <td>337.306</td>\n",
       "      <td>424.465</td>\n",
       "      <td>675.936</td>\n",
       "      <td>3327.777</td>\n",
       "    </tr>\n",
       "  </tbody>\n",
       "</table>\n",
       "</div>"
      ],
      "text/plain": [
       "                        count    mean     std    min     5%     25%     50%     60%     70%     75%     80%     85%     90%     95%     99%      max\n",
       "recency_cltv_weekly 19945.000  95.263  74.589  0.000 12.571  50.429  76.571  86.714 100.000 109.429 120.286 154.771 200.943 276.686 350.223  433.429\n",
       "T_weekly            19945.000 114.472  74.771  0.714 29.886  73.857  93.000 104.286 116.286 119.429 138.171 177.057 220.571 296.286 372.143  437.143\n",
       "frequency           19945.000   4.978   4.121  2.000  2.000   3.000   4.000   4.000   5.000   6.000   7.000   8.000   9.000  12.000  22.000   57.000\n",
       "monetary_cltv_avg   19945.000 152.099  73.524 22.490 68.490 103.653 136.906 152.675 170.717 182.450 196.052 213.868 238.670 285.368 402.702 1401.800\n",
       "exp_sales_3_month   19945.000   0.577   0.231  0.149  0.287   0.434   0.535   0.580   0.637   0.670   0.713   0.766   0.840   0.982   1.370    4.656\n",
       "exp_sales_6_month   19945.000   1.154   0.463  0.299  0.574   0.868   1.071   1.160   1.275   1.340   1.426   1.532   1.680   1.964   2.740    9.312\n",
       "exp_average_value   19945.000 159.239  77.019 25.083 72.568 108.771 142.917 159.326 178.410 190.446 205.048 223.810 250.314 299.279 423.455 1449.060\n",
       "cltv                19945.000 195.119 132.878 12.108 60.371 112.245 165.469 191.119 221.203 240.058 263.362 294.464 337.306 424.465 675.936 3327.777"
      ]
     },
     "execution_count": 159,
     "metadata": {},
     "output_type": "execute_result"
    }
   ],
   "source": [
    "cltv_final.describe([0.05, 0.25, 0.50, 0.60, 0.70, 0.75, 0.80, 0.85, 0.90, 0.95, 0.99]).T"
   ]
  },
  {
   "cell_type": "code",
   "execution_count": 160,
   "id": "40084426-2b9b-4128-8345-f63fa43e57d9",
   "metadata": {},
   "outputs": [],
   "source": [
    "cltv_num = [col for col in cltv_final.columns if cltv_final[col].dtypes in ['float64']]"
   ]
  },
  {
   "cell_type": "code",
   "execution_count": 161,
   "id": "830107b8-ab65-4b1b-850a-78eb89c62459",
   "metadata": {},
   "outputs": [],
   "source": [
    "def cltv_final_summary(dataframe, numerical_col, hist_plot=False, hist_boxplot=False):\n",
    "    quantiles = [0.05, 0.1, 0.2, 0.25, 0.3, 0.4, 0.5, 0.6, 0.70, 0.8, 0.9, 0.95, 0.99, 1]\n",
    "    print(f\"############## {numerical_col} ###############\", end='\\n\\n')\n",
    "    print(dataframe[numerical_col].describe(quantiles).T)\n",
    "\n",
    "    if hist_plot:\n",
    "        dataframe[numerical_col].hist(bins=50)\n",
    "        plt.xlabel(numerical_col)\n",
    "        plt.title(numerical_col)\n",
    "        plt.show()\n",
    "\n",
    "    if hist_boxplot:\n",
    "        sns.boxplot(dataframe[numerical_col])\n",
    "        plt.xlabel(numerical_col)\n",
    "        plt.title(numerical_col)\n",
    "        plt.show()\n",
    "\n",
    "    print('########################################################################################')"
   ]
  },
  {
   "cell_type": "code",
   "execution_count": 162,
   "id": "94659f66-ee08-4443-a871-1f1136fb9748",
   "metadata": {
    "scrolled": true
   },
   "outputs": [
    {
     "name": "stdout",
     "output_type": "stream",
     "text": [
      "############## recency_cltv_weekly ###############\n",
      "\n",
      "count   19945.000\n",
      "mean       95.263\n",
      "std        74.589\n",
      "min         0.000\n",
      "5%         12.571\n",
      "10%        25.714\n",
      "20%        44.000\n",
      "25%        50.429\n",
      "30%        56.571\n",
      "40%        67.143\n",
      "50%        76.571\n",
      "60%        86.714\n",
      "70%       100.000\n",
      "80%       120.286\n",
      "90%       200.943\n",
      "95%       276.686\n",
      "99%       350.223\n",
      "100%      433.429\n",
      "max       433.429\n",
      "Name: recency_cltv_weekly, dtype: float64\n"
     ]
    },
    {
     "data": {
      "image/png": "[encoded data removed]",
      "text/plain": [
       "<Figure size 640x480 with 1 Axes>"
      ]
     },
     "metadata": {},
     "output_type": "display_data"
    },
    {
     "data": {
      "image/png": "[encoded data removed]",
      "text/plain": [
       "<Figure size 640x480 with 1 Axes>"
      ]
     },
     "metadata": {},
     "output_type": "display_data"
    },
    {
     "name": "stdout",
     "output_type": "stream",
     "text": [
      "########################################################################################\n",
      "############## T_weekly ###############\n",
      "\n",
      "count   19945.000\n",
      "mean      114.472\n",
      "std        74.771\n",
      "min         0.714\n",
      "5%         29.886\n",
      "10%        48.286\n",
      "20%        68.286\n",
      "25%        73.857\n",
      "30%        78.429\n",
      "40%        85.714\n",
      "50%        93.000\n",
      "60%       104.286\n",
      "70%       116.286\n",
      "80%       138.171\n",
      "90%       220.571\n",
      "95%       296.286\n",
      "99%       372.143\n",
      "100%      437.143\n",
      "max       437.143\n",
      "Name: T_weekly, dtype: float64\n"
     ]
    },
    {
     "data": {
      "image/png": "[encoded data removed]",
      "text/plain": [
       "<Figure size 640x480 with 1 Axes>"
      ]
     },
     "metadata": {},
     "output_type": "display_data"
    },
    {
     "data": {
      "image/png": "[encoded data removed]",
      "text/plain": [
       "<Figure size 640x480 with 1 Axes>"
      ]
     },
     "metadata": {},
     "output_type": "display_data"
    },
    {
     "name": "stdout",
     "output_type": "stream",
     "text": [
      "########################################################################################\n",
      "############## frequency ###############\n",
      "\n",
      "count   19945.000\n",
      "mean        4.978\n",
      "std         4.121\n",
      "min         2.000\n",
      "5%          2.000\n",
      "10%         2.000\n",
      "20%         2.000\n",
      "25%         3.000\n",
      "30%         3.000\n",
      "40%         3.000\n",
      "50%         4.000\n",
      "60%         4.000\n",
      "70%         5.000\n",
      "80%         7.000\n",
      "90%         9.000\n",
      "95%        12.000\n",
      "99%        22.000\n",
      "100%       57.000\n",
      "max        57.000\n",
      "Name: frequency, dtype: float64\n"
     ]
    },
    {
     "data": {
      "image/png": "[encoded data removed]",
      "text/plain": [
       "<Figure size 640x480 with 1 Axes>"
      ]
     },
     "metadata": {},
     "output_type": "display_data"
    },
    {
     "data": {
      "image/png": "[encoded data removed]",
      "text/plain": [
       "<Figure size 640x480 with 1 Axes>"
      ]
     },
     "metadata": {},
     "output_type": "display_data"
    },
    {
     "name": "stdout",
     "output_type": "stream",
     "text": [
      "########################################################################################\n",
      "############## monetary_cltv_avg ###############\n",
      "\n",
      "count   19945.000\n",
      "mean      152.099\n",
      "std        73.524\n",
      "min        22.490\n",
      "5%         68.490\n",
      "10%        80.124\n",
      "20%        96.988\n",
      "25%       103.653\n",
      "30%       110.235\n",
      "40%       123.323\n",
      "50%       136.906\n",
      "60%       152.675\n",
      "70%       170.717\n",
      "80%       196.052\n",
      "90%       238.670\n",
      "95%       285.368\n",
      "99%       402.702\n",
      "100%     1401.800\n",
      "max      1401.800\n",
      "Name: monetary_cltv_avg, dtype: float64\n"
     ]
    },
    {
     "data": {
      "image/png": "[encoded data removed]",
      "text/plain": [
       "<Figure size 640x480 with 1 Axes>"
      ]
     },
     "metadata": {},
     "output_type": "display_data"
    },
    {
     "data": {
      "image/png": "[encoded data removed]",
      "text/plain": [
       "<Figure size 640x480 with 1 Axes>"
      ]
     },
     "metadata": {},
     "output_type": "display_data"
    },
    {
     "name": "stdout",
     "output_type": "stream",
     "text": [
      "########################################################################################\n",
      "############## exp_sales_3_month ###############\n",
      "\n",
      "count   19945.000\n",
      "mean        0.577\n",
      "std         0.231\n",
      "min         0.149\n",
      "5%          0.287\n",
      "10%         0.353\n",
      "20%         0.416\n",
      "25%         0.434\n",
      "30%         0.458\n",
      "40%         0.493\n",
      "50%         0.535\n",
      "60%         0.580\n",
      "70%         0.637\n",
      "80%         0.713\n",
      "90%         0.840\n",
      "95%         0.982\n",
      "99%         1.370\n",
      "100%        4.656\n",
      "max         4.656\n",
      "Name: exp_sales_3_month, dtype: float64\n"
     ]
    },
    {
     "data": {
      "image/png": "[encoded data removed]",
      "text/plain": [
       "<Figure size 640x480 with 1 Axes>"
      ]
     },
     "metadata": {},
     "output_type": "display_data"
    },
    {
     "data": {
      "image/png": "[encoded data removed]",
      "text/plain": [
       "<Figure size 640x480 with 1 Axes>"
      ]
     },
     "metadata": {},
     "output_type": "display_data"
    },
    {
     "name": "stdout",
     "output_type": "stream",
     "text": [
      "########################################################################################\n",
      "############## exp_sales_6_month ###############\n",
      "\n",
      "count   19945.000\n",
      "mean        1.154\n",
      "std         0.463\n",
      "min         0.299\n",
      "5%          0.574\n",
      "10%         0.706\n",
      "20%         0.832\n",
      "25%         0.868\n",
      "30%         0.917\n",
      "40%         0.985\n",
      "50%         1.071\n",
      "60%         1.160\n",
      "70%         1.275\n",
      "80%         1.426\n",
      "90%         1.680\n",
      "95%         1.964\n",
      "99%         2.740\n",
      "100%        9.312\n",
      "max         9.312\n",
      "Name: exp_sales_6_month, dtype: float64\n"
     ]
    },
    {
     "data": {
      "image/png": "[encoded data removed]",
      "text/plain": [
       "<Figure size 640x480 with 1 Axes>"
      ]
     },
     "metadata": {},
     "output_type": "display_data"
    },
    {
     "data": {
      "image/png": "[encoded data removed]",
      "text/plain": [
       "<Figure size 640x480 with 1 Axes>"
      ]
     },
     "metadata": {},
     "output_type": "display_data"
    },
    {
     "name": "stdout",
     "output_type": "stream",
     "text": [
      "########################################################################################\n",
      "############## exp_average_value ###############\n",
      "\n",
      "count   19945.000\n",
      "mean      159.239\n",
      "std        77.019\n",
      "min        25.083\n",
      "5%         72.568\n",
      "10%        84.736\n",
      "20%       101.302\n",
      "25%       108.771\n",
      "30%       115.257\n",
      "40%       129.025\n",
      "50%       142.917\n",
      "60%       159.326\n",
      "70%       178.410\n",
      "80%       205.048\n",
      "90%       250.314\n",
      "95%       299.279\n",
      "99%       423.455\n",
      "100%     1449.060\n",
      "max      1449.060\n",
      "Name: exp_average_value, dtype: float64\n"
     ]
    },
    {
     "data": {
      "image/png": "[encoded data removed]",
      "text/plain": [
       "<Figure size 640x480 with 1 Axes>"
      ]
     },
     "metadata": {},
     "output_type": "display_data"
    },
    {
     "data": {
      "image/png": "[encoded data removed]",
      "text/plain": [
       "<Figure size 640x480 with 1 Axes>"
      ]
     },
     "metadata": {},
     "output_type": "display_data"
    },
    {
     "name": "stdout",
     "output_type": "stream",
     "text": [
      "########################################################################################\n",
      "############## cltv ###############\n",
      "\n",
      "count   19945.000\n",
      "mean      195.119\n",
      "std       132.878\n",
      "min        12.108\n",
      "5%         60.371\n",
      "10%        77.062\n",
      "20%       101.162\n",
      "25%       112.245\n",
      "30%       122.455\n",
      "40%       143.187\n",
      "50%       165.469\n",
      "60%       191.119\n",
      "70%       221.203\n",
      "80%       263.362\n",
      "90%       337.306\n",
      "95%       424.465\n",
      "99%       675.936\n",
      "100%     3327.777\n",
      "max      3327.777\n",
      "Name: cltv, dtype: float64\n"
     ]
    },
    {
     "data": {
      "image/png": "[encoded data removed]",
      "text/plain": [
       "<Figure size 640x480 with 1 Axes>"
      ]
     },
     "metadata": {},
     "output_type": "display_data"
    },
    {
     "data": {
      "image/png": "[encoded data removed]",
      "text/plain": [
       "<Figure size 640x480 with 1 Axes>"
      ]
     },
     "metadata": {},
     "output_type": "display_data"
    },
    {
     "name": "stdout",
     "output_type": "stream",
     "text": [
      "########################################################################################\n"
     ]
    }
   ],
   "source": [
    "for col in cltv_num:\n",
    "    cltv_final_summary(cltv_final, col, True, True)"
   ]
  },
  {
   "cell_type": "markdown",
   "id": "0b8b2e48-bf32-441e-9e33-6dcb6686edc6",
   "metadata": {},
   "source": [
    "### 4. Task (4. Görev) : Creating Segments Based on CLTV Value (CLTV Değerine Göre Segmentlerin Oluşturulması)"
   ]
  },
  {
   "cell_type": "markdown",
   "id": "2301df38-bc5b-4858-ad54-f7f5a0739fd6",
   "metadata": {},
   "source": [
    "- **Step 1:** *Divide all your customers into 4 groups (segments) according to 6-month CLTV and add the group names to the data set.*\n",
    "\n",
    "  - (**Adım 1:** *6 aylık CLTV'ye göre tüm müşterilerinizi 4 gruba (segmente) ayırınız ve grup isimlerini veri setine ekleyiniz.*)\n",
    "\n",
    "---"
   ]
  },
  {
   "cell_type": "code",
   "execution_count": 163,
   "id": "c3519673-bfbb-457d-9967-25263f31955c",
   "metadata": {},
   "outputs": [],
   "source": [
    "cltv_final['segment'] = pd.qcut(cltv_final['cltv'], 4, labels = ['D', 'C', 'B', 'A'])"
   ]
  },
  {
   "cell_type": "code",
   "execution_count": 164,
   "id": "ab65d0a8-282e-4583-b77c-ab52158b3c46",
   "metadata": {},
   "outputs": [
    {
     "data": {
      "text/html": [
       "<div>\n",
       "<style scoped>\n",
       "    .dataframe tbody tr th:only-of-type {\n",
       "        vertical-align: middle;\n",
       "    }\n",
       "\n",
       "    .dataframe tbody tr th {\n",
       "        vertical-align: top;\n",
       "    }\n",
       "\n",
       "    .dataframe thead th {\n",
       "        text-align: right;\n",
       "    }\n",
       "</style>\n",
       "<table border=\"1\" class=\"dataframe\">\n",
       "  <thead>\n",
       "    <tr style=\"text-align: right;\">\n",
       "      <th></th>\n",
       "      <th>customer id</th>\n",
       "      <th>recency_cltv_weekly</th>\n",
       "      <th>T_weekly</th>\n",
       "      <th>frequency</th>\n",
       "      <th>monetary_cltv_avg</th>\n",
       "      <th>exp_sales_3_month</th>\n",
       "      <th>exp_sales_6_month</th>\n",
       "      <th>exp_average_value</th>\n",
       "      <th>cltv</th>\n",
       "      <th>segment</th>\n",
       "    </tr>\n",
       "  </thead>\n",
       "  <tbody>\n",
       "    <tr>\n",
       "      <th>9055</th>\n",
       "      <td>47a642fe-975b-11eb-8c2a-000d3a38a36f</td>\n",
       "      <td>2.857</td>\n",
       "      <td>7.857</td>\n",
       "      <td>4.000</td>\n",
       "      <td>1401.800</td>\n",
       "      <td>1.094</td>\n",
       "      <td>2.189</td>\n",
       "      <td>1449.060</td>\n",
       "      <td>3327.777</td>\n",
       "      <td>A</td>\n",
       "    </tr>\n",
       "    <tr>\n",
       "      <th>13880</th>\n",
       "      <td>7137a5c0-7aad-11ea-8f20-000d3a38a36f</td>\n",
       "      <td>6.143</td>\n",
       "      <td>13.143</td>\n",
       "      <td>11.000</td>\n",
       "      <td>758.085</td>\n",
       "      <td>1.970</td>\n",
       "      <td>3.940</td>\n",
       "      <td>767.361</td>\n",
       "      <td>3172.394</td>\n",
       "      <td>A</td>\n",
       "    </tr>\n",
       "    <tr>\n",
       "      <th>17323</th>\n",
       "      <td>f59053e2-a503-11e9-a2fc-000d3a38a36f</td>\n",
       "      <td>51.714</td>\n",
       "      <td>101.000</td>\n",
       "      <td>7.000</td>\n",
       "      <td>1106.467</td>\n",
       "      <td>0.722</td>\n",
       "      <td>1.444</td>\n",
       "      <td>1127.612</td>\n",
       "      <td>1708.982</td>\n",
       "      <td>A</td>\n",
       "    </tr>\n",
       "    <tr>\n",
       "      <th>12438</th>\n",
       "      <td>625f40a2-5bd2-11ea-98b0-000d3a38a36f</td>\n",
       "      <td>74.286</td>\n",
       "      <td>74.571</td>\n",
       "      <td>16.000</td>\n",
       "      <td>501.874</td>\n",
       "      <td>1.565</td>\n",
       "      <td>3.131</td>\n",
       "      <td>506.167</td>\n",
       "      <td>1662.613</td>\n",
       "      <td>A</td>\n",
       "    </tr>\n",
       "    <tr>\n",
       "      <th>7330</th>\n",
       "      <td>a4d534a2-5b1b-11eb-8dbd-000d3a38a36f</td>\n",
       "      <td>62.714</td>\n",
       "      <td>67.286</td>\n",
       "      <td>52.000</td>\n",
       "      <td>166.225</td>\n",
       "      <td>4.656</td>\n",
       "      <td>9.312</td>\n",
       "      <td>166.712</td>\n",
       "      <td>1628.887</td>\n",
       "      <td>A</td>\n",
       "    </tr>\n",
       "    <tr>\n",
       "      <th>8868</th>\n",
       "      <td>9ce6e520-89b0-11ea-a6e7-000d3a38a36f</td>\n",
       "      <td>3.429</td>\n",
       "      <td>34.429</td>\n",
       "      <td>8.000</td>\n",
       "      <td>601.226</td>\n",
       "      <td>1.265</td>\n",
       "      <td>2.531</td>\n",
       "      <td>611.493</td>\n",
       "      <td>1623.813</td>\n",
       "      <td>A</td>\n",
       "    </tr>\n",
       "    <tr>\n",
       "      <th>6402</th>\n",
       "      <td>851de3b4-8f0c-11eb-8cb8-000d3a38a36f</td>\n",
       "      <td>8.286</td>\n",
       "      <td>9.429</td>\n",
       "      <td>2.000</td>\n",
       "      <td>862.690</td>\n",
       "      <td>0.794</td>\n",
       "      <td>1.588</td>\n",
       "      <td>923.680</td>\n",
       "      <td>1538.856</td>\n",
       "      <td>A</td>\n",
       "    </tr>\n",
       "    <tr>\n",
       "      <th>6666</th>\n",
       "      <td>53fe00d4-7b7a-11eb-960b-000d3a38a36f</td>\n",
       "      <td>9.714</td>\n",
       "      <td>13.000</td>\n",
       "      <td>17.000</td>\n",
       "      <td>259.865</td>\n",
       "      <td>2.781</td>\n",
       "      <td>5.561</td>\n",
       "      <td>262.073</td>\n",
       "      <td>1529.228</td>\n",
       "      <td>A</td>\n",
       "    </tr>\n",
       "    <tr>\n",
       "      <th>19538</th>\n",
       "      <td>55d54d9e-8ac7-11ea-8ec0-000d3a38a36f</td>\n",
       "      <td>52.571</td>\n",
       "      <td>58.714</td>\n",
       "      <td>31.000</td>\n",
       "      <td>228.530</td>\n",
       "      <td>3.084</td>\n",
       "      <td>6.168</td>\n",
       "      <td>229.607</td>\n",
       "      <td>1485.819</td>\n",
       "      <td>A</td>\n",
       "    </tr>\n",
       "    <tr>\n",
       "      <th>14858</th>\n",
       "      <td>031b2954-6d28-11eb-99c4-000d3a38a36f</td>\n",
       "      <td>14.857</td>\n",
       "      <td>15.571</td>\n",
       "      <td>3.000</td>\n",
       "      <td>743.587</td>\n",
       "      <td>0.872</td>\n",
       "      <td>1.743</td>\n",
       "      <td>778.050</td>\n",
       "      <td>1423.000</td>\n",
       "      <td>A</td>\n",
       "    </tr>\n",
       "  </tbody>\n",
       "</table>\n",
       "</div>"
      ],
      "text/plain": [
       "                                customer id  recency_cltv_weekly  T_weekly  frequency  monetary_cltv_avg  exp_sales_3_month  exp_sales_6_month  exp_average_value     cltv segment\n",
       "9055   47a642fe-975b-11eb-8c2a-000d3a38a36f                2.857     7.857      4.000           1401.800              1.094              2.189           1449.060 3327.777       A\n",
       "13880  7137a5c0-7aad-11ea-8f20-000d3a38a36f                6.143    13.143     11.000            758.085              1.970              3.940            767.361 3172.394       A\n",
       "17323  f59053e2-a503-11e9-a2fc-000d3a38a36f               51.714   101.000      7.000           1106.467              0.722              1.444           1127.612 1708.982       A\n",
       "12438  625f40a2-5bd2-11ea-98b0-000d3a38a36f               74.286    74.571     16.000            501.874              1.565              3.131            506.167 1662.613       A\n",
       "7330   a4d534a2-5b1b-11eb-8dbd-000d3a38a36f               62.714    67.286     52.000            166.225              4.656              9.312            166.712 1628.887       A\n",
       "8868   9ce6e520-89b0-11ea-a6e7-000d3a38a36f                3.429    34.429      8.000            601.226              1.265              2.531            611.493 1623.813       A\n",
       "6402   851de3b4-8f0c-11eb-8cb8-000d3a38a36f                8.286     9.429      2.000            862.690              0.794              1.588            923.680 1538.856       A\n",
       "6666   53fe00d4-7b7a-11eb-960b-000d3a38a36f                9.714    13.000     17.000            259.865              2.781              5.561            262.073 1529.228       A\n",
       "19538  55d54d9e-8ac7-11ea-8ec0-000d3a38a36f               52.571    58.714     31.000            228.530              3.084              6.168            229.607 1485.819       A\n",
       "14858  031b2954-6d28-11eb-99c4-000d3a38a36f               14.857    15.571      3.000            743.587              0.872              1.743            778.050 1423.000       A"
      ]
     },
     "execution_count": 164,
     "metadata": {},
     "output_type": "execute_result"
    }
   ],
   "source": [
    "cltv_final.sort_values(by='cltv', ascending=False).head(10)"
   ]
  },
  {
   "cell_type": "markdown",
   "id": "ba07ea83-ffb2-4e91-a0ae-a3afadf8ed54",
   "metadata": {},
   "source": [
    "---\n",
    "\n",
    "- **Step 2:** *Make brief 6-month action suggestions to the management for 2 groups you choose among 4 groups.*\n",
    "\n",
    "  - (**Adım 2:** *4 grup içerisinden seçeceğiniz 2 grup için yönetime kısa kısa 6 aylık aksiyon önerilerinde bulununuz.*)\n",
    " \n",
    "---"
   ]
  },
  {
   "cell_type": "code",
   "execution_count": 165,
   "id": "c54be626-a41b-4536-afba-cbac56106a09",
   "metadata": {},
   "outputs": [
    {
     "data": {
      "text/html": [
       "<div>\n",
       "<style scoped>\n",
       "    .dataframe tbody tr th:only-of-type {\n",
       "        vertical-align: middle;\n",
       "    }\n",
       "\n",
       "    .dataframe tbody tr th {\n",
       "        vertical-align: top;\n",
       "    }\n",
       "\n",
       "    .dataframe thead tr th {\n",
       "        text-align: left;\n",
       "    }\n",
       "\n",
       "    .dataframe thead tr:last-of-type th {\n",
       "        text-align: right;\n",
       "    }\n",
       "</style>\n",
       "<table border=\"1\" class=\"dataframe\">\n",
       "  <thead>\n",
       "    <tr>\n",
       "      <th></th>\n",
       "      <th colspan=\"3\" halign=\"left\">recency_cltv_weekly</th>\n",
       "      <th colspan=\"3\" halign=\"left\">T_weekly</th>\n",
       "      <th colspan=\"3\" halign=\"left\">frequency</th>\n",
       "      <th colspan=\"3\" halign=\"left\">monetary_cltv_avg</th>\n",
       "      <th colspan=\"3\" halign=\"left\">exp_sales_3_month</th>\n",
       "      <th colspan=\"3\" halign=\"left\">exp_sales_6_month</th>\n",
       "      <th colspan=\"3\" halign=\"left\">exp_average_value</th>\n",
       "      <th colspan=\"3\" halign=\"left\">cltv</th>\n",
       "    </tr>\n",
       "    <tr>\n",
       "      <th></th>\n",
       "      <th>sum</th>\n",
       "      <th>mean</th>\n",
       "      <th>count</th>\n",
       "      <th>sum</th>\n",
       "      <th>mean</th>\n",
       "      <th>count</th>\n",
       "      <th>sum</th>\n",
       "      <th>mean</th>\n",
       "      <th>count</th>\n",
       "      <th>sum</th>\n",
       "      <th>mean</th>\n",
       "      <th>count</th>\n",
       "      <th>sum</th>\n",
       "      <th>mean</th>\n",
       "      <th>count</th>\n",
       "      <th>sum</th>\n",
       "      <th>mean</th>\n",
       "      <th>count</th>\n",
       "      <th>sum</th>\n",
       "      <th>mean</th>\n",
       "      <th>count</th>\n",
       "      <th>sum</th>\n",
       "      <th>mean</th>\n",
       "      <th>count</th>\n",
       "    </tr>\n",
       "    <tr>\n",
       "      <th>segment</th>\n",
       "      <th></th>\n",
       "      <th></th>\n",
       "      <th></th>\n",
       "      <th></th>\n",
       "      <th></th>\n",
       "      <th></th>\n",
       "      <th></th>\n",
       "      <th></th>\n",
       "      <th></th>\n",
       "      <th></th>\n",
       "      <th></th>\n",
       "      <th></th>\n",
       "      <th></th>\n",
       "      <th></th>\n",
       "      <th></th>\n",
       "      <th></th>\n",
       "      <th></th>\n",
       "      <th></th>\n",
       "      <th></th>\n",
       "      <th></th>\n",
       "      <th></th>\n",
       "      <th></th>\n",
       "      <th></th>\n",
       "      <th></th>\n",
       "    </tr>\n",
       "  </thead>\n",
       "  <tbody>\n",
       "    <tr>\n",
       "      <th>D</th>\n",
       "      <td>693193.857</td>\n",
       "      <td>139.000</td>\n",
       "      <td>4987</td>\n",
       "      <td>808807.714</td>\n",
       "      <td>162.183</td>\n",
       "      <td>4987</td>\n",
       "      <td>18795.000</td>\n",
       "      <td>3.769</td>\n",
       "      <td>4987</td>\n",
       "      <td>464547.046</td>\n",
       "      <td>93.152</td>\n",
       "      <td>4987</td>\n",
       "      <td>2039.164</td>\n",
       "      <td>0.409</td>\n",
       "      <td>4987</td>\n",
       "      <td>4078.328</td>\n",
       "      <td>0.818</td>\n",
       "      <td>4987</td>\n",
       "      <td>492172.441</td>\n",
       "      <td>98.691</td>\n",
       "      <td>4987</td>\n",
       "      <td>400657.955</td>\n",
       "      <td>80.340</td>\n",
       "      <td>4987</td>\n",
       "    </tr>\n",
       "    <tr>\n",
       "      <th>C</th>\n",
       "      <td>461850.857</td>\n",
       "      <td>92.630</td>\n",
       "      <td>4986</td>\n",
       "      <td>562512.143</td>\n",
       "      <td>112.818</td>\n",
       "      <td>4986</td>\n",
       "      <td>21962.000</td>\n",
       "      <td>4.405</td>\n",
       "      <td>4986</td>\n",
       "      <td>627181.647</td>\n",
       "      <td>125.789</td>\n",
       "      <td>4986</td>\n",
       "      <td>2619.885</td>\n",
       "      <td>0.525</td>\n",
       "      <td>4986</td>\n",
       "      <td>5239.769</td>\n",
       "      <td>1.051</td>\n",
       "      <td>4986</td>\n",
       "      <td>659401.453</td>\n",
       "      <td>132.251</td>\n",
       "      <td>4986</td>\n",
       "      <td>689621.178</td>\n",
       "      <td>138.312</td>\n",
       "      <td>4986</td>\n",
       "    </tr>\n",
       "    <tr>\n",
       "      <th>B</th>\n",
       "      <td>408794.000</td>\n",
       "      <td>81.988</td>\n",
       "      <td>4986</td>\n",
       "      <td>500228.000</td>\n",
       "      <td>100.327</td>\n",
       "      <td>4986</td>\n",
       "      <td>25392.000</td>\n",
       "      <td>5.093</td>\n",
       "      <td>4986</td>\n",
       "      <td>800933.959</td>\n",
       "      <td>160.637</td>\n",
       "      <td>4986</td>\n",
       "      <td>2997.110</td>\n",
       "      <td>0.601</td>\n",
       "      <td>4986</td>\n",
       "      <td>5994.219</td>\n",
       "      <td>1.202</td>\n",
       "      <td>4986</td>\n",
       "      <td>837650.882</td>\n",
       "      <td>168.001</td>\n",
       "      <td>4986</td>\n",
       "      <td>994870.784</td>\n",
       "      <td>199.533</td>\n",
       "      <td>4986</td>\n",
       "    </tr>\n",
       "    <tr>\n",
       "      <th>A</th>\n",
       "      <td>336191.714</td>\n",
       "      <td>67.427</td>\n",
       "      <td>4986</td>\n",
       "      <td>411592.857</td>\n",
       "      <td>82.550</td>\n",
       "      <td>4986</td>\n",
       "      <td>33140.000</td>\n",
       "      <td>6.647</td>\n",
       "      <td>4986</td>\n",
       "      <td>1140952.075</td>\n",
       "      <td>228.831</td>\n",
       "      <td>4986</td>\n",
       "      <td>3854.313</td>\n",
       "      <td>0.773</td>\n",
       "      <td>4986</td>\n",
       "      <td>7708.626</td>\n",
       "      <td>1.546</td>\n",
       "      <td>4986</td>\n",
       "      <td>1186787.639</td>\n",
       "      <td>238.024</td>\n",
       "      <td>4986</td>\n",
       "      <td>1806505.089</td>\n",
       "      <td>362.316</td>\n",
       "      <td>4986</td>\n",
       "    </tr>\n",
       "  </tbody>\n",
       "</table>\n",
       "</div>"
      ],
      "text/plain": [
       "        recency_cltv_weekly                 T_weekly               frequency             monetary_cltv_avg               exp_sales_3_month             exp_sales_6_month             exp_average_value                      cltv              \n",
       "                        sum    mean count        sum    mean count       sum  mean count               sum    mean count               sum  mean count               sum  mean count               sum    mean count         sum    mean count\n",
       "segment                                                                                                                                                                                                                                       \n",
       "D                693193.857 139.000  4987 808807.714 162.183  4987 18795.000 3.769  4987        464547.046  93.152  4987          2039.164 0.409  4987          4078.328 0.818  4987        492172.441  98.691  4987  400657.955  80.340  4987\n",
       "C                461850.857  92.630  4986 562512.143 112.818  4986 21962.000 4.405  4986        627181.647 125.789  4986          2619.885 0.525  4986          5239.769 1.051  4986        659401.453 132.251  4986  689621.178 138.312  4986\n",
       "B                408794.000  81.988  4986 500228.000 100.327  4986 25392.000 5.093  4986        800933.959 160.637  4986          2997.110 0.601  4986          5994.219 1.202  4986        837650.882 168.001  4986  994870.784 199.533  4986\n",
       "A                336191.714  67.427  4986 411592.857  82.550  4986 33140.000 6.647  4986       1140952.075 228.831  4986          3854.313 0.773  4986          7708.626 1.546  4986       1186787.639 238.024  4986 1806505.089 362.316  4986"
      ]
     },
     "execution_count": 165,
     "metadata": {},
     "output_type": "execute_result"
    }
   ],
   "source": [
    "cltv_final[[col for col in cltv_final.columns if 'id' not in col]].groupby('segment').agg(\n",
    "    {'sum', 'mean', 'count'})"
   ]
  },
  {
   "cell_type": "markdown",
   "id": "1e0f33dc-8c86-4b6a-a40b-8d33c1d86f45",
   "metadata": {},
   "source": [
    "---\n",
    "\n",
    "- **Segment D:**\n",
    "\n",
    "  - **Recency (Weekly Shopping Frequency):** The average weekly shopping frequency of customers in segment D is 3,769. You can organize campaigns to encourage weekly shopping for customers in this segment. For example, you can encourage customers to shop more frequently by launching special weekly discounts or loyalty programs.\n",
    "  - **Monetary (Average Weekly Spending):** The average weekly expenditure of customers in segment D is 93,152 units. You can increase the amount of spending by offering special offers or advantageous packages for customers in this segment.\n",
    "  - **Sales (Total Sales for 3 and 6 Months):** Total sales from customers in segment D during this period were 2039,164 and 4078,328 units. During this period, you can increase sales by organizing special sales events or new product launches for customers.\n",
    " \n",
    "---\n",
    "\n",
    "- **Segment A:**\n",
    "\n",
    "  - **Recency (Weekly Shopping Frequency):** The average weekly shopping frequency of customers in segment A is 6,647. You can reinforce the loyalty of customers who shop at this high frequency by offering special advantageous offers.\n",
    "  - **Monetary (Average Weekly Spending):** The average weekly spend of customers in segment A is 228,831 units, which is quite high. You can provide more advantages to these customers with special luxury product offers or VIP customer programs.\n",
    "  - **Sales (Total Sales for 3 and 6 Months):** Total sales from customers in segment A during this period were 3854,313 and 7708,626 units. During this period, you can increase sales by focusing on customer-specific and specially designed products or services.\n",
    "\n",
    "---"
   ]
  },
  {
   "cell_type": "markdown",
   "id": "cce20266-cd1a-4617-b0c1-8c26defd68a2",
   "metadata": {},
   "source": [
    "---\n",
    "\n",
    "- **Segment D:**\n",
    "\n",
    "  - **Recency (Haftalık Alışveriş Frekansı):** D segmentindeki müşterilerin haftalık alışveriş frekansı ortalama olarak 3.769'dur. Bu segmentteki müşterilere özellikle haftalık alışverişleri teşvik edici kampanyalar düzenleyebilirsiniz. Örneğin, haftalık özel indirimler veya sadakat programları başlatarak müşterileri daha sık alışveriş yapmaya teşvik edebilirsiniz.\n",
    "  - **Monetary (Haftalık Ortalama Harcama):** D segmentindeki müşterilerin haftalık ortalama harcaması 93.152 birimdir. Bu segmentteki müşterilere yönelik özel teklifler veya avantajlı paketler sunarak harcama miktarını artırabilirsiniz.\n",
    "  - **Sales (3 ve 6 Aylık Toplam Satış):** Bu süre zarfında segment D'deki müşterilerin toplam satışları 2039.164 ve 4078.328 birimdir. Bu dönemde müşterilere yönelik özel satış etkinlikleri veya yeni ürün lansmanları yaparak satışları artırabilirsiniz.\n",
    " \n",
    "---\n",
    "\n",
    "- **Segment A:**\n",
    "\n",
    "  - **Recency (Haftalık Alışveriş Frekansı):** A segmentindeki müşterilerin haftalık alışveriş frekansı ortalama olarak 6.647'dir. Bu yüksek frekansta alışveriş yapan müşterilere özel avantajlı teklifler sunarak sadakatlerini pekiştirebilirsiniz.\n",
    "  - **Monetary (Haftalık Ortalama Harcama):** A segmentindeki müşterilerin haftalık ortalama harcaması oldukça yüksek olan 228.831 birimdir. Bu müşterilere özel lüks ürün teklifleri veya VIP müşteri programları ile daha fazla avantaj sağlayabilirsiniz.\n",
    " \n",
    "  - **Sales (3 ve 6 Aylık Toplam Satış):** Bu süre zarfında segment A'deki müşterilerin toplam satışları 3854.313 ve 7708.626 birimdir. Bu dönemde müşterilere özel ve özel tasarlanmış ürün veya hizmetlere odaklanarak satışları artırabilirsiniz.\n",
    "\n",
    "---"
   ]
  },
  {
   "cell_type": "markdown",
   "id": "1190b720-0c8e-496d-b69c-0142ccc61fc7",
   "metadata": {},
   "source": [
    "## Preparation of the Entire Process with a Single Function (Tüm Sürecin Tek Fonksiyonla Hazırlanması)"
   ]
  },
  {
   "cell_type": "code",
   "execution_count": 166,
   "id": "ec1e4d8e-c030-4a23-b1da-1f5b19e5d3a4",
   "metadata": {},
   "outputs": [],
   "source": [
    "def create_cltv_p(dataframe, month=6,\n",
    "                  excel_cltv_p=False, csv_cltv_p=False,\n",
    "                  excel_A=False, csv_A=False, excel_B=False, csv_B=False,\n",
    "                  excel_C=False, csv_C=False, excel_D=False, csv_D=False):\n",
    "\n",
    "#--------------------------------------------------------------------------------------------------#\n",
    "##### FUNCTION DESCRIPTION #######\n",
    "# dataframe = data set\n",
    "# month = \"CLTV\" is the desired duration of the forecast (in months) (The default month is 6)\n",
    "# Set the segment and file type you want to save to \"True\". If you don't want it, don't change it.\n",
    "#--------------------------------------------------------------------------------------------------#\n",
    "\n",
    "    # Data Pre-processing\n",
    "    num_cols = [col for col in dataframe.columns if dataframe[col].dtypes in ['float32', 'float64', 'int32', 'int64']]\n",
    "    for col in num_cols:\n",
    "        replace_with_thresholds(dataframe, col, q1=0.01, q3=0.99)\n",
    "\n",
    "    dataframe['omnichannel_order_total'] = dataframe['order_num_total_ever_online'] + dataframe['order_num_total_ever_offline']\n",
    "\n",
    "    dataframe['omnichannel_customer_value_total'] = dataframe['customer_value_total_ever_offline'] + dataframe['customer_value_total_ever_online']\n",
    "\n",
    "    dt_col = [col for col in dataframe.columns if 'date' in col]\n",
    "    for col in dt_col:\n",
    "        dataframe[col] = pd.to_datetime(df[col])\n",
    "\n",
    "    analysis_date = dt.datetime(2021, 6, 1)\n",
    "\n",
    "    cltv_df = pd.DataFrame()\n",
    "    # Customer ID\n",
    "    cltv_df['customer id'] = dataframe['master_id']\n",
    "    # Recency\n",
    "    cltv_df['recency_cltv_weekly'] = (dataframe['last_order_date'] - dataframe['first_order_date']).dt.days\n",
    "    cltv_df['recency_cltv_weekly'] = cltv_df['recency_cltv_weekly'] / 7\n",
    "    # T\n",
    "    cltv_df['T_weekly'] = (analysis_date - dataframe['first_order_date']).dt.days\n",
    "    cltv_df['T_weekly'] = cltv_df['T_weekly'] / 7\n",
    "    # Frequency\n",
    "    cltv_df['frequency'] = dataframe['omnichannel_order_total']\n",
    "    cltv_df = cltv_df[cltv_df['frequency'] > 1]\n",
    "    # Monetary\n",
    "    cltv_df['monetary_cltv_avg'] = dataframe['omnichannel_customer_value_total'] / cltv_df['frequency']\n",
    "\n",
    "    # Establishing the BG-NBD Model\n",
    "    bgf = BetaGeoFitter(penalizer_coef=0.001)\n",
    "    bgf.fit(cltv_df['frequency'],\n",
    "            cltv_df['recency_cltv_weekly'],\n",
    "            cltv_df['T_weekly'])\n",
    "\n",
    "    cltv_df['exp_sales_3_month'] = bgf.predict(4 * 3,\n",
    "                                               cltv_df['frequency'],\n",
    "                                               cltv_df['recency_cltv_weekly'],\n",
    "                                               cltv_df['T_weekly'])\n",
    "\n",
    "    cltv_df['exp_sales_6_month']= bgf.predict(4 * 6,\n",
    "                                              cltv_df['frequency'],\n",
    "                                              cltv_df['recency_cltv_weekly'],\n",
    "                                              cltv_df['T_weekly'])\n",
    "\n",
    "    # Establishing the Gamma-Gamma Model\n",
    "    ggf = GammaGammaFitter(penalizer_coef=0.01)\n",
    "    ggf.fit(cltv_df['frequency'],\n",
    "            cltv_df['monetary_cltv_avg'])\n",
    "\n",
    "    cltv_df['exp_average_value'] = ggf.conditional_expected_average_profit(cltv_df['frequency'],\n",
    "                                                                           cltv_df['monetary_cltv_avg'])\n",
    "\n",
    "    # Calculation of CLTV with BG-NBD and GG model\n",
    "    cltv_df.set_index('customer id', inplace=True)\n",
    "    cltv = ggf.customer_lifetime_value(bgf,\n",
    "                                       cltv_df['frequency'],\n",
    "                                       cltv_df['recency_cltv_weekly'],\n",
    "                                       cltv_df['T_weekly'],\n",
    "                                       cltv_df['monetary_cltv_avg'],\n",
    "                                       time = 6, # 6 aylık\n",
    "                                       freq = 'W', # T'nin frekans bilgisi\n",
    "                                       discount_rate=0.01)\n",
    "\n",
    "    cltv = cltv.reset_index()\n",
    "    cltv_final = cltv_df.merge(cltv, on='customer id', how='left')\n",
    "    cltv_final.rename(columns={'clv': 'cltv'}, inplace=True)\n",
    "\n",
    "    cltv_final['segment'] = pd.qcut(cltv_final['cltv'], 4, labels = ['D', 'C', 'B', 'A'])\n",
    "\n",
    "     # Save CLTV Prediction\n",
    "    if excel_cltv_p:\n",
    "        cltv_final.to_excel('CLTV_Prediction.xlsx', index=False)\n",
    "\n",
    "    if csv_cltv_p:\n",
    "        cltv_final.to_csv('CLTV_Prediction.csv', index=False)\n",
    "    \n",
    "    # Save Segment A\n",
    "    cltv_p_A_id = cltv_final[cltv_final['segment'].str.contains('A')]['customer id']\n",
    "    \n",
    "    if excel_A:\n",
    "        cltv_p_A_id.to_excel('Segment_A_id.xlsx', index=False)\n",
    "        \n",
    "    if csv_A:\n",
    "        cltv_p_A_id.to_csv('Segment_A_id.csv', index=False)\n",
    "\n",
    "    # Save Segment B\n",
    "    cltv_p_B_id = cltv_final[cltv_final['segment'].str.contains('B')]['customer id']\n",
    "    \n",
    "    if excel_B:\n",
    "        cltv_p_B_id.to_excel('Segment_B_id.xlsx', index=False)\n",
    "        \n",
    "    if csv_B:\n",
    "        cltv_p_B_id.to_csv('Segment_B_id.csv', index=False)\n",
    "\n",
    "    # Save Segment C\n",
    "    cltv_p_C_id = cltv_final[cltv_final['segment'].str.contains('C')]['customer id']\n",
    "    \n",
    "    if excel_C:\n",
    "        cltv_p_C_id.to_excel('Segment_C_id.xlsx', index=False)\n",
    "        \n",
    "    if csv_C:\n",
    "        cltv_p_C_id.to_csv('Segment_C_id.csv', index=False)\n",
    "\n",
    "    # Save Segment D\n",
    "    cltv_p_D_id = cltv_final[cltv_final['segment'].str.contains('D')]['customer id']\n",
    "    \n",
    "    if excel_D:\n",
    "        cltv_p_D_id.to_excel('Segment_D_id.xlsx', index=False)\n",
    "        \n",
    "    if csv_D:\n",
    "        cltv_p_D_id.to_csv('Segment_D_id.csv', index=False)\n",
    "        \n",
    "        \n",
    "    return cltv_final"
   ]
  },
  {
   "cell_type": "code",
   "execution_count": 167,
   "id": "af343d0a-85ee-4d69-aeb5-df9824bfa0c3",
   "metadata": {},
   "outputs": [
    {
     "data": {
      "text/plain": [
       "(19945, 10)"
      ]
     },
     "execution_count": 167,
     "metadata": {},
     "output_type": "execute_result"
    }
   ],
   "source": [
    "cltv_final.shape"
   ]
  },
  {
   "cell_type": "code",
   "execution_count": 168,
   "id": "4d44922b-1fd2-40a8-9aed-2af01657ae2f",
   "metadata": {},
   "outputs": [],
   "source": [
    "df_test = df_.copy()"
   ]
  },
  {
   "cell_type": "code",
   "execution_count": 169,
   "id": "63b182f1-b68e-4d73-b71f-0bbc173df400",
   "metadata": {},
   "outputs": [],
   "source": [
    "cltv_test = create_cltv_p(df_test, month=6,\n",
    "                  excel_cltv_p=True, csv_cltv_p=True,\n",
    "                  excel_A=True, csv_A=True, excel_B=True, csv_B=True,\n",
    "                  excel_C=True, csv_C=True, excel_D=True, csv_D=True)"
   ]
  },
  {
   "cell_type": "code",
   "execution_count": 170,
   "id": "e452adb8-4968-429d-9aa5-fb8b1e240915",
   "metadata": {},
   "outputs": [
    {
     "data": {
      "text/plain": [
       "(19945, 10)"
      ]
     },
     "execution_count": 170,
     "metadata": {},
     "output_type": "execute_result"
    }
   ],
   "source": [
    "cltv_test.shape"
   ]
  },
  {
   "cell_type": "code",
   "execution_count": 171,
   "id": "a5e7530e-c516-4df8-9775-768be7982370",
   "metadata": {},
   "outputs": [
    {
     "data": {
      "text/html": [
       "<div>\n",
       "<style scoped>\n",
       "    .dataframe tbody tr th:only-of-type {\n",
       "        vertical-align: middle;\n",
       "    }\n",
       "\n",
       "    .dataframe tbody tr th {\n",
       "        vertical-align: top;\n",
       "    }\n",
       "\n",
       "    .dataframe thead tr th {\n",
       "        text-align: left;\n",
       "    }\n",
       "\n",
       "    .dataframe thead tr:last-of-type th {\n",
       "        text-align: right;\n",
       "    }\n",
       "</style>\n",
       "<table border=\"1\" class=\"dataframe\">\n",
       "  <thead>\n",
       "    <tr>\n",
       "      <th></th>\n",
       "      <th colspan=\"3\" halign=\"left\">recency_cltv_weekly</th>\n",
       "      <th colspan=\"3\" halign=\"left\">T_weekly</th>\n",
       "      <th colspan=\"3\" halign=\"left\">frequency</th>\n",
       "      <th colspan=\"3\" halign=\"left\">monetary_cltv_avg</th>\n",
       "      <th colspan=\"3\" halign=\"left\">exp_sales_3_month</th>\n",
       "      <th colspan=\"3\" halign=\"left\">exp_sales_6_month</th>\n",
       "      <th colspan=\"3\" halign=\"left\">exp_average_value</th>\n",
       "      <th colspan=\"3\" halign=\"left\">cltv</th>\n",
       "    </tr>\n",
       "    <tr>\n",
       "      <th></th>\n",
       "      <th>sum</th>\n",
       "      <th>mean</th>\n",
       "      <th>count</th>\n",
       "      <th>sum</th>\n",
       "      <th>mean</th>\n",
       "      <th>count</th>\n",
       "      <th>sum</th>\n",
       "      <th>mean</th>\n",
       "      <th>count</th>\n",
       "      <th>sum</th>\n",
       "      <th>mean</th>\n",
       "      <th>count</th>\n",
       "      <th>sum</th>\n",
       "      <th>mean</th>\n",
       "      <th>count</th>\n",
       "      <th>sum</th>\n",
       "      <th>mean</th>\n",
       "      <th>count</th>\n",
       "      <th>sum</th>\n",
       "      <th>mean</th>\n",
       "      <th>count</th>\n",
       "      <th>sum</th>\n",
       "      <th>mean</th>\n",
       "      <th>count</th>\n",
       "    </tr>\n",
       "    <tr>\n",
       "      <th>segment</th>\n",
       "      <th></th>\n",
       "      <th></th>\n",
       "      <th></th>\n",
       "      <th></th>\n",
       "      <th></th>\n",
       "      <th></th>\n",
       "      <th></th>\n",
       "      <th></th>\n",
       "      <th></th>\n",
       "      <th></th>\n",
       "      <th></th>\n",
       "      <th></th>\n",
       "      <th></th>\n",
       "      <th></th>\n",
       "      <th></th>\n",
       "      <th></th>\n",
       "      <th></th>\n",
       "      <th></th>\n",
       "      <th></th>\n",
       "      <th></th>\n",
       "      <th></th>\n",
       "      <th></th>\n",
       "      <th></th>\n",
       "      <th></th>\n",
       "    </tr>\n",
       "  </thead>\n",
       "  <tbody>\n",
       "    <tr>\n",
       "      <th>D</th>\n",
       "      <td>693193.857</td>\n",
       "      <td>139.000</td>\n",
       "      <td>4987</td>\n",
       "      <td>808807.714</td>\n",
       "      <td>162.183</td>\n",
       "      <td>4987</td>\n",
       "      <td>18795.000</td>\n",
       "      <td>3.769</td>\n",
       "      <td>4987</td>\n",
       "      <td>464547.046</td>\n",
       "      <td>93.152</td>\n",
       "      <td>4987</td>\n",
       "      <td>2039.164</td>\n",
       "      <td>0.409</td>\n",
       "      <td>4987</td>\n",
       "      <td>4078.328</td>\n",
       "      <td>0.818</td>\n",
       "      <td>4987</td>\n",
       "      <td>492172.441</td>\n",
       "      <td>98.691</td>\n",
       "      <td>4987</td>\n",
       "      <td>400657.955</td>\n",
       "      <td>80.340</td>\n",
       "      <td>4987</td>\n",
       "    </tr>\n",
       "    <tr>\n",
       "      <th>C</th>\n",
       "      <td>461850.857</td>\n",
       "      <td>92.630</td>\n",
       "      <td>4986</td>\n",
       "      <td>562512.143</td>\n",
       "      <td>112.818</td>\n",
       "      <td>4986</td>\n",
       "      <td>21962.000</td>\n",
       "      <td>4.405</td>\n",
       "      <td>4986</td>\n",
       "      <td>627181.647</td>\n",
       "      <td>125.789</td>\n",
       "      <td>4986</td>\n",
       "      <td>2619.885</td>\n",
       "      <td>0.525</td>\n",
       "      <td>4986</td>\n",
       "      <td>5239.769</td>\n",
       "      <td>1.051</td>\n",
       "      <td>4986</td>\n",
       "      <td>659401.453</td>\n",
       "      <td>132.251</td>\n",
       "      <td>4986</td>\n",
       "      <td>689621.178</td>\n",
       "      <td>138.312</td>\n",
       "      <td>4986</td>\n",
       "    </tr>\n",
       "    <tr>\n",
       "      <th>B</th>\n",
       "      <td>408794.000</td>\n",
       "      <td>81.988</td>\n",
       "      <td>4986</td>\n",
       "      <td>500228.000</td>\n",
       "      <td>100.327</td>\n",
       "      <td>4986</td>\n",
       "      <td>25392.000</td>\n",
       "      <td>5.093</td>\n",
       "      <td>4986</td>\n",
       "      <td>800933.959</td>\n",
       "      <td>160.637</td>\n",
       "      <td>4986</td>\n",
       "      <td>2997.110</td>\n",
       "      <td>0.601</td>\n",
       "      <td>4986</td>\n",
       "      <td>5994.219</td>\n",
       "      <td>1.202</td>\n",
       "      <td>4986</td>\n",
       "      <td>837650.882</td>\n",
       "      <td>168.001</td>\n",
       "      <td>4986</td>\n",
       "      <td>994870.784</td>\n",
       "      <td>199.533</td>\n",
       "      <td>4986</td>\n",
       "    </tr>\n",
       "    <tr>\n",
       "      <th>A</th>\n",
       "      <td>336191.714</td>\n",
       "      <td>67.427</td>\n",
       "      <td>4986</td>\n",
       "      <td>411592.857</td>\n",
       "      <td>82.550</td>\n",
       "      <td>4986</td>\n",
       "      <td>33140.000</td>\n",
       "      <td>6.647</td>\n",
       "      <td>4986</td>\n",
       "      <td>1140952.075</td>\n",
       "      <td>228.831</td>\n",
       "      <td>4986</td>\n",
       "      <td>3854.313</td>\n",
       "      <td>0.773</td>\n",
       "      <td>4986</td>\n",
       "      <td>7708.626</td>\n",
       "      <td>1.546</td>\n",
       "      <td>4986</td>\n",
       "      <td>1186787.639</td>\n",
       "      <td>238.024</td>\n",
       "      <td>4986</td>\n",
       "      <td>1806505.089</td>\n",
       "      <td>362.316</td>\n",
       "      <td>4986</td>\n",
       "    </tr>\n",
       "  </tbody>\n",
       "</table>\n",
       "</div>"
      ],
      "text/plain": [
       "        recency_cltv_weekly                 T_weekly               frequency             monetary_cltv_avg               exp_sales_3_month             exp_sales_6_month             exp_average_value                      cltv              \n",
       "                        sum    mean count        sum    mean count       sum  mean count               sum    mean count               sum  mean count               sum  mean count               sum    mean count         sum    mean count\n",
       "segment                                                                                                                                                                                                                                       \n",
       "D                693193.857 139.000  4987 808807.714 162.183  4987 18795.000 3.769  4987        464547.046  93.152  4987          2039.164 0.409  4987          4078.328 0.818  4987        492172.441  98.691  4987  400657.955  80.340  4987\n",
       "C                461850.857  92.630  4986 562512.143 112.818  4986 21962.000 4.405  4986        627181.647 125.789  4986          2619.885 0.525  4986          5239.769 1.051  4986        659401.453 132.251  4986  689621.178 138.312  4986\n",
       "B                408794.000  81.988  4986 500228.000 100.327  4986 25392.000 5.093  4986        800933.959 160.637  4986          2997.110 0.601  4986          5994.219 1.202  4986        837650.882 168.001  4986  994870.784 199.533  4986\n",
       "A                336191.714  67.427  4986 411592.857  82.550  4986 33140.000 6.647  4986       1140952.075 228.831  4986          3854.313 0.773  4986          7708.626 1.546  4986       1186787.639 238.024  4986 1806505.089 362.316  4986"
      ]
     },
     "execution_count": 171,
     "metadata": {},
     "output_type": "execute_result"
    }
   ],
   "source": [
    "cltv_test[[col for col in cltv_test.columns if 'customer id' not in col]].groupby('segment').agg(\n",
    "    {'count', 'mean', 'sum'})"
   ]
  },
  {
   "cell_type": "code",
   "execution_count": null,
   "id": "fbb13262-640a-4562-b84b-65094e86c6e3",
   "metadata": {},
   "outputs": [],
   "source": []
  }
 ],
 "metadata": {
  "kernelspec": {
   "display_name": "Python 3 (ipykernel)",
   "language": "python",
   "name": "python3"
  },
  "language_info": {
   "codemirror_mode": {
    "name": "ipython",
    "version": 3
   },
   "file_extension": ".py",
   "mimetype": "text/x-python",
   "name": "python",
   "nbconvert_exporter": "python",
   "pygments_lexer": "ipython3",
   "version": "3.11.5"
  }
 },
 "nbformat": 4,
 "nbformat_minor": 5
}
